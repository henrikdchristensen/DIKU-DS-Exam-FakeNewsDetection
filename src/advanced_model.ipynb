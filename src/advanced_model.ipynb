{
 "cells": [
  {
   "cell_type": "code",
   "execution_count": 2,
   "metadata": {},
   "outputs": [
    {
     "name": "stderr",
     "output_type": "stream",
     "text": [
      "2023-03-31 07:57:41.172153: I tensorflow/core/platform/cpu_feature_guard.cc:193] This TensorFlow binary is optimized with oneAPI Deep Neural Network Library (oneDNN) to use the following CPU instructions in performance-critical operations:  SSE4.1 SSE4.2\n",
      "To enable them in other operations, rebuild TensorFlow with the appropriate compiler flags.\n"
     ]
    }
   ],
   "source": [
    "import nltk\n",
    "from nltk.corpus import stopwords\n",
    "# nltk.download('stopwords')\n",
    "\n",
    "import tensorflow as tf\n",
    "from tensorflow import keras\n",
    "from keras import preprocessing\n",
    "from keras.layers import Dense\n",
    "from keras.models import Sequential, load_model\n",
    "from keras.models import Model\n",
    "from keras_preprocessing.sequence import pad_sequences\n",
    "from keras_preprocessing.text import Tokenizer\n",
    "from sklearn.feature_extraction.text import TfidfVectorizer\n",
    "\n",
    "from keras.models import Sequential\n",
    "from keras.layers import Embedding, LSTM, Dense, Dropout, GlobalAveragePooling1D\n",
    "import transformers as ppb # pytorch-pretrained-bert\n",
    "# from transformers import_version_; print(_version_)\n",
    "from transformers import BertTokenizer\n",
    "from transformers import BertModel, BertForMaskedLM\n",
    "import torch\n",
    "import pipeline as pp\n",
    "import models as ml\n",
    "import numpy as np\n",
    "import pandas as pd\n",
    "import model_tests as mt\n",
    "import importlib\n",
    "\n",
    "# import train_test_split\n",
    "from sklearn.model_selection import train_test_split\n",
    "from sklearn.svm import SVC\n",
    "from sklearn.metrics import accuracy_score\n",
    "# conffusion matrix\n",
    "from sklearn.metrics import confusion_matrix\n",
    "# import seaborn as sns\n",
    "import matplotlib.pyplot as plt\n",
    "#f score\n",
    "from sklearn.metrics import f1_score"
   ]
  },
  {
   "attachments": {},
   "cell_type": "markdown",
   "metadata": {},
   "source": [
    "# Generate dataset"
   ]
  },
  {
   "attachments": {},
   "cell_type": "markdown",
   "metadata": {},
   "source": [
    "Generate dataset and apply binary labels to the data."
   ]
  },
  {
   "cell_type": "code",
   "execution_count": null,
   "metadata": {},
   "outputs": [],
   "source": [
    "importlib.reload(pp)\n",
    "\n",
    "\n",
    "data = pp.apply_pipeline(\n",
    "    '../datasets/big/dataset.csv',\n",
    "    [(pp.Binary_labels(), 'type', 'type_binary') ],\n",
    "    # classes=[True, False],\n",
    "    # total_rows=100000,\n",
    "    new_file='../datasets/big/dataset_bin_large.csv',\n",
    "    progress_bar=True,\n",
    "    nrows=1000000\n",
    ")"
   ]
  },
  {
   "attachments": {},
   "cell_type": "markdown",
   "metadata": {},
   "source": [
    "# Split the data to training set"
   ]
  },
  {
   "cell_type": "code",
   "execution_count": 3,
   "metadata": {},
   "outputs": [
    {
     "name": "stderr",
     "output_type": "stream",
     "text": [
      "100%|██████████| 20000/20000 [00:00<00:00, 939668.43it/s]\n",
      "100%|██████████| 20000/20000 [00:00<00:00, 1045856.77it/s]\n",
      "100%|██████████| 20000/20000 [00:00<00:00, 1100289.61it/s]\n",
      "100%|██████████| 20000/20000 [00:00<00:00, 1114409.76it/s]\n",
      "100%|██████████| 20000/20000 [00:00<00:00, 1126380.75it/s]\n",
      "100%|██████████| 20000/20000 [00:00<00:00, 1081312.74it/s]\n",
      "100%|██████████| 20000/20000 [00:00<00:00, 1060265.43it/s]\n",
      "100%|██████████| 20000/20000 [00:00<00:00, 1124041.32it/s]\n",
      "100%|██████████| 20000/20000 [00:00<00:00, 1126713.59it/s]\n",
      "100%|██████████| 20000/20000 [00:00<00:00, 1118436.33it/s]\n",
      "100%|██████████| 20000/20000 [00:00<00:00, 1115951.58it/s]\n",
      "100%|██████████| 20000/20000 [00:00<00:00, 1123153.38it/s]\n",
      "100%|██████████| 20000/20000 [00:00<00:00, 1079684.41it/s]\n",
      "100%|██████████| 20000/20000 [00:00<00:00, 1124991.01it/s]\n",
      "100%|██████████| 20000/20000 [00:00<00:00, 1124463.21it/s]\n",
      "100%|██████████| 20000/20000 [00:00<00:00, 1124357.71it/s]\n",
      "100%|██████████| 20000/20000 [00:00<00:00, 1117378.59it/s]\n",
      "100%|██████████| 20000/20000 [00:00<00:00, 1120932.17it/s]\n",
      "100%|██████████| 20000/20000 [00:00<00:00, 1117259.53it/s]\n",
      "100%|██████████| 20000/20000 [00:00<00:00, 1123920.84it/s]\n",
      "100%|██████████| 20000/20000 [00:00<00:00, 1104112.88it/s]\n",
      "100%|██████████| 20000/20000 [00:00<00:00, 1121126.93it/s]\n",
      "100%|██████████| 20000/20000 [00:00<00:00, 1124794.92it/s]\n",
      "100%|██████████| 20000/20000 [00:00<00:00, 1097640.53it/s]\n",
      "100%|██████████| 20000/20000 [00:00<00:00, 1118391.60it/s]\n",
      "100%|██████████| 20000/20000 [00:00<00:00, 1124900.50it/s]\n",
      "100%|██████████| 20000/20000 [00:00<00:00, 1121831.60it/s]\n",
      "100%|██████████| 20000/20000 [00:00<00:00, 1123273.70it/s]\n",
      "100%|██████████| 20000/20000 [00:00<00:00, 1120632.68it/s]\n",
      "100%|██████████| 20000/20000 [00:00<00:00, 1123213.54it/s]\n",
      "100%|██████████| 20000/20000 [00:00<00:00, 1093790.57it/s]\n",
      "100%|██████████| 20000/20000 [00:00<00:00, 809195.69it/s]\n",
      "100%|██████████| 20000/20000 [00:00<00:00, 1104781.77it/s]\n",
      "100%|██████████| 20000/20000 [00:00<00:00, 1109985.97it/s]\n",
      "100%|██████████| 20000/20000 [00:00<00:00, 1124930.67it/s]\n",
      "100%|██████████| 20000/20000 [00:00<00:00, 1105932.42it/s]\n",
      "100%|██████████| 20000/20000 [00:00<00:00, 1122401.99it/s]\n",
      "100%|██████████| 20000/20000 [00:00<00:00, 1120198.70it/s]\n",
      "100%|██████████| 20000/20000 [00:00<00:00, 1102835.51it/s]\n",
      "100%|██████████| 20000/20000 [00:00<00:00, 1054693.22it/s]\n",
      "100%|██████████| 20000/20000 [00:00<00:00, 1101242.94it/s]\n",
      "100%|██████████| 20000/20000 [00:00<00:00, 1061338.60it/s]\n",
      "100%|██████████| 20000/20000 [00:00<00:00, 952969.35it/s]\n",
      "100%|██████████| 20000/20000 [00:00<00:00, 1087241.01it/s]\n",
      "100%|██████████| 20000/20000 [00:00<00:00, 1121696.60it/s]\n",
      "100%|██████████| 20000/20000 [00:00<00:00, 1118257.42it/s]\n",
      "100%|██████████| 20000/20000 [00:00<00:00, 1122086.71it/s]\n",
      "100%|██████████| 20000/20000 [00:00<00:00, 1125307.93it/s]\n",
      "100%|██████████| 20000/20000 [00:00<00:00, 1119376.57it/s]\n",
      "100%|██████████| 20000/20000 [00:00<00:00, 1108460.58it/s]\n"
     ]
    },
    {
     "name": "stdout",
     "output_type": "stream",
     "text": [
      "entries read: 1000000\n"
     ]
    }
   ],
   "source": [
    "importlib.reload(pp)\n",
    "fromfile = \"../datasets/big/dataset_bin_large.csv\"\n",
    "nr_of_rows = 1000000\n",
    "# fromfile = \"../datasets/big/dataset_unbalanced_cleaned.csv\"\n",
    "\n",
    "\n",
    "pp.get_dataframe_with_distribution(fromfile, nr_of_rows, [0.8,0.1,0.1], [False, False, False], \n",
    "                                   out_file=\"../datasets/sample/dataset_unbalanced.csv\", get_frame=False)\n"
   ]
  },
  {
   "attachments": {},
   "cell_type": "markdown",
   "metadata": {},
   "source": [
    "## Cluster the data (optional)\n",
    "\n",
    "To find underlying clusters in the data, we use the KMeans algorithm.\n"
   ]
  },
  {
   "cell_type": "code",
   "execution_count": 89,
   "metadata": {},
   "outputs": [],
   "source": [
    "# Vectorize the corpus using TF-IDF\n",
    "from sklearn.feature_extraction.text import TfidfVectorizer\n",
    "\n",
    "tfidf_vectorizer = TfidfVectorizer(stop_words='english')\n",
    "tfidf = tfidf_vectorizer.fit_transform(cleaned_data['content_combined'].values.astype('U'))"
   ]
  },
  {
   "attachments": {},
   "cell_type": "markdown",
   "metadata": {},
   "source": [
    "### Plot the elbow curve to determine the optimal number of clusters."
   ]
  },
  {
   "cell_type": "code",
   "execution_count": 90,
   "metadata": {},
   "outputs": [
    {
     "data": {
      "image/png": "[encoded data removed]",
      "text/plain": [
       "<Figure size 640x480 with 1 Axes>"
      ]
     },
     "metadata": {},
     "output_type": "display_data"
    }
   ],
   "source": [
    "# Calculate SSE for different values of k\n",
    "import matplotlib.pyplot as plt\n",
    "from sklearn.cluster import KMeans\n",
    "\n",
    "models = []\n",
    "\n",
    "sse = {}\n",
    "for k in range(2, 11):\n",
    "    kmeans = KMeans(n_clusters=k, max_iter=1000, n_init=10).fit(tfidf)\n",
    "    models.append(kmeans)\n",
    "    sse[k] = kmeans.inertia_ \n",
    "\n",
    "# Plot SSE against k\n",
    "plt.figure()\n",
    "plt.plot(list(sse.keys()), list(sse.values()))\n",
    "plt.xlabel(\"Number of clusters\")\n",
    "plt.ylabel(\"SSE\")\n",
    "plt.show()"
   ]
  },
  {
   "attachments": {},
   "cell_type": "markdown",
   "metadata": {},
   "source": [
    "### Define the number of clusters"
   ]
  },
  {
   "cell_type": "code",
   "execution_count": 91,
   "metadata": {},
   "outputs": [
    {
     "data": {
      "text/html": [
       "<style>#sk-container-id-2 {color: black;background-color: white;}#sk-container-id-2 pre{padding: 0;}#sk-container-id-2 div.sk-toggleable {background-color: white;}#sk-container-id-2 label.sk-toggleable__label {cursor: pointer;display: block;width: 100%;margin-bottom: 0;padding: 0.3em;box-sizing: border-box;text-align: center;}#sk-container-id-2 label.sk-toggleable__label-arrow:before {content: \"▸\";float: left;margin-right: 0.25em;color: #696969;}#sk-container-id-2 label.sk-toggleable__label-arrow:hover:before {color: black;}#sk-container-id-2 div.sk-estimator:hover label.sk-toggleable__label-arrow:before {color: black;}#sk-container-id-2 div.sk-toggleable__content {max-height: 0;max-width: 0;overflow: hidden;text-align: left;background-color: #f0f8ff;}#sk-container-id-2 div.sk-toggleable__content pre {margin: 0.2em;color: black;border-radius: 0.25em;background-color: #f0f8ff;}#sk-container-id-2 input.sk-toggleable__control:checked~div.sk-toggleable__content {max-height: 200px;max-width: 100%;overflow: auto;}#sk-container-id-2 input.sk-toggleable__control:checked~label.sk-toggleable__label-arrow:before {content: \"▾\";}#sk-container-id-2 div.sk-estimator input.sk-toggleable__control:checked~label.sk-toggleable__label {background-color: #d4ebff;}#sk-container-id-2 div.sk-label input.sk-toggleable__control:checked~label.sk-toggleable__label {background-color: #d4ebff;}#sk-container-id-2 input.sk-hidden--visually {border: 0;clip: rect(1px 1px 1px 1px);clip: rect(1px, 1px, 1px, 1px);height: 1px;margin: -1px;overflow: hidden;padding: 0;position: absolute;width: 1px;}#sk-container-id-2 div.sk-estimator {font-family: monospace;background-color: #f0f8ff;border: 1px dotted black;border-radius: 0.25em;box-sizing: border-box;margin-bottom: 0.5em;}#sk-container-id-2 div.sk-estimator:hover {background-color: #d4ebff;}#sk-container-id-2 div.sk-parallel-item::after {content: \"\";width: 100%;border-bottom: 1px solid gray;flex-grow: 1;}#sk-container-id-2 div.sk-label:hover label.sk-toggleable__label {background-color: #d4ebff;}#sk-container-id-2 div.sk-serial::before {content: \"\";position: absolute;border-left: 1px solid gray;box-sizing: border-box;top: 0;bottom: 0;left: 50%;z-index: 0;}#sk-container-id-2 div.sk-serial {display: flex;flex-direction: column;align-items: center;background-color: white;padding-right: 0.2em;padding-left: 0.2em;position: relative;}#sk-container-id-2 div.sk-item {position: relative;z-index: 1;}#sk-container-id-2 div.sk-parallel {display: flex;align-items: stretch;justify-content: center;background-color: white;position: relative;}#sk-container-id-2 div.sk-item::before, #sk-container-id-2 div.sk-parallel-item::before {content: \"\";position: absolute;border-left: 1px solid gray;box-sizing: border-box;top: 0;bottom: 0;left: 50%;z-index: -1;}#sk-container-id-2 div.sk-parallel-item {display: flex;flex-direction: column;z-index: 1;position: relative;background-color: white;}#sk-container-id-2 div.sk-parallel-item:first-child::after {align-self: flex-end;width: 50%;}#sk-container-id-2 div.sk-parallel-item:last-child::after {align-self: flex-start;width: 50%;}#sk-container-id-2 div.sk-parallel-item:only-child::after {width: 0;}#sk-container-id-2 div.sk-dashed-wrapped {border: 1px dashed gray;margin: 0 0.4em 0.5em 0.4em;box-sizing: border-box;padding-bottom: 0.4em;background-color: white;}#sk-container-id-2 div.sk-label label {font-family: monospace;font-weight: bold;display: inline-block;line-height: 1.2em;}#sk-container-id-2 div.sk-label-container {text-align: center;}#sk-container-id-2 div.sk-container {/* jupyter's `normalize.less` sets `[hidden] { display: none; }` but bootstrap.min.css set `[hidden] { display: none !important; }` so we also need the `!important` here to be able to override the default hidden behavior on the sphinx rendered scikit-learn.org. See: https://github.com/scikit-learn/scikit-learn/issues/21755 */display: inline-block !important;position: relative;}#sk-container-id-2 div.sk-text-repr-fallback {display: none;}</style><div id=\"sk-container-id-2\" class=\"sk-top-container\"><div class=\"sk-text-repr-fallback\"><pre>KMeans(max_iter=100, n_clusters=5, n_init=10)</pre><b>In a Jupyter environment, please rerun this cell to show the HTML representation or trust the notebook. <br />On GitHub, the HTML representation is unable to render, please try loading this page with nbviewer.org.</b></div><div class=\"sk-container\" hidden><div class=\"sk-item\"><div class=\"sk-estimator sk-toggleable\"><input class=\"sk-toggleable__control sk-hidden--visually\" id=\"sk-estimator-id-2\" type=\"checkbox\" checked><label for=\"sk-estimator-id-2\" class=\"sk-toggleable__label sk-toggleable__label-arrow\">KMeans</label><div class=\"sk-toggleable__content\"><pre>KMeans(max_iter=100, n_clusters=5, n_init=10)</pre></div></div></div></div></div>"
      ],
      "text/plain": [
       "KMeans(max_iter=100, n_clusters=5, n_init=10)"
      ]
     },
     "execution_count": 91,
     "metadata": {},
     "output_type": "execute_result"
    }
   ],
   "source": [
    "num_clusters = 5\n",
    "kmeans = KMeans(n_clusters=num_clusters, init='k-means++', max_iter=100, n_init=10)\n",
    "kmeans.fit(tfidf)"
   ]
  },
  {
   "attachments": {},
   "cell_type": "markdown",
   "metadata": {},
   "source": [
    "### Plot the clusters using a a scatterplot in 2d with PCA."
   ]
  },
  {
   "cell_type": "code",
   "execution_count": 92,
   "metadata": {},
   "outputs": [],
   "source": [
    "label_to_color = {0: 'red', 1: 'blue', 2: 'green', 3: 'violet', 4: \"yellow\", 5: \"orange\"}"
   ]
  },
  {
   "cell_type": "markdown",
   "metadata": {},
   "source": []
  },
  {
   "cell_type": "code",
   "execution_count": null,
   "metadata": {},
   "outputs": [],
   "source": [
    "from sklearn.decomposition import PCA\n",
    "\n",
    "# Reduce the dimensions of the data using PCA\n",
    "pca = PCA(n_components=2)\n",
    "tfidf_2d = pca.fit_transform(tfidf.toarray())\n",
    "\n",
    "colors = [label_to_color[label] for label in kmeans.labels_]\n",
    "\n",
    "# Visualize the clusters\n",
    "plt.scatter(tfidf_2d[:, 0], tfidf_2d[:, 1], \n",
    "            c=colors, \n",
    "            cmap='rainbow',\n",
    "            )\n",
    "plt.show()"
   ]
  },
  {
   "cell_type": "code",
   "execution_count": 93,
   "metadata": {},
   "outputs": [
    {
     "name": "stdout",
     "output_type": "stream",
     "text": [
      "Top terms per cluster:\n",
      "Cluster red terms: num, date, url, said, new, time, mr, peopl, state, year, \n",
      "Cluster blue terms: updat, bookmark, sputnik, pleas, dear, excit, radio, whitelist, adblock, voic, \n",
      "Cluster green terms: tor, tail, anonymis, usb, browser, dvd, submiss, stick, comput, internet, \n",
      "Cluster violet terms: rec, num, trump, republican, moor, date, diari, roy, senat, thread, \n",
      "Cluster yellow terms: iran, iranian, nuclear, suprem, islam, minist, leader, tehran, ali, republ, \n"
     ]
    }
   ],
   "source": [
    "# Print the top terms in each cluster\n",
    "print(\"Top terms per cluster:\")\n",
    "order_centroids = kmeans.cluster_centers_.argsort()[:, ::-1] # sort the centroids by their distance to the origin\n",
    "terms = tfidf_vectorizer.get_feature_names_out()\n",
    "for i in range(num_clusters):\n",
    "    print(f\"Cluster {label_to_color[i]} terms: \", end='')\n",
    "    for j in order_centroids[i, :10]:\n",
    "        print(f\"{terms[j]}, \", end='')\n",
    "    print()"
   ]
  },
  {
   "attachments": {},
   "cell_type": "markdown",
   "metadata": {},
   "source": [
    "### Add the cluster labels to the data as a feature"
   ]
  },
  {
   "cell_type": "code",
   "execution_count": 150,
   "metadata": {},
   "outputs": [],
   "source": [
    "cleaned_data['cluster'] = kmeans.labels_\n",
    "# add the cluster label to the content\n",
    "\n",
    "# concat the cluster label to the content\n",
    "\n",
    "# create a new column 'cluster_color' that maps cluster labels to color codes\n",
    "cleaned_data['cluster_color'] = cleaned_data['cluster'].map(label_to_color)\n",
    "\n",
    "# create a new column 'cluster_string' that concatenates the color code and cluster label string\n",
    "cleaned_data['cluster_string'] = cleaned_data['cluster_color'] + 'Cluster'\n",
    "\n",
    "cleaned_data['content_with_cluster'] = cleaned_data['content_combined'] + ' ' + cleaned_data['cluster_string'].astype(str)"
   ]
  },
  {
   "cell_type": "code",
   "execution_count": 151,
   "metadata": {},
   "outputs": [
    {
     "data": {
      "text/plain": [
       "'editor drop colleg editori march <num> written favor elector colleg reform sinc <date> would prefer popular elect presid gimmick endors individu state bind elector vote nation popularvot winner seem problemat one basic reason stop state legislatur strong partisan loyalti abandon agreement urgent calcul parti advantag come fore ? one legislatur anoth undo end difficult might presidentialelect reform depend take amend process serious that exampl editori cite conclus demonstr although individu state set legisl preced grant suffrag africanamerican women also popular elect senat end right entrench constitut amend left unstabl legisl gimmickri jack rakov stanford calif march <date> writer professor histori american studi polit scienc stanford univers draw draw thoma fuch redCluster'"
      ]
     },
     "execution_count": 151,
     "metadata": {},
     "output_type": "execute_result"
    }
   ],
   "source": [
    "cleaned_data['content_with_cluster'][0]"
   ]
  },
  {
   "attachments": {},
   "cell_type": "markdown",
   "metadata": {},
   "source": [
    "### Add top termas as features"
   ]
  },
  {
   "cell_type": "code",
   "execution_count": 129,
   "metadata": {},
   "outputs": [
    {
     "name": "stdout",
     "output_type": "stream",
     "text": [
      "Top terms per cluster:\n",
      "Cluster red terms: num date url said new time mr peopl state year\n",
      "Cluster blue terms: updat bookmark sputnik pleas dear excit radio whitelist adblock voic\n",
      "Cluster green terms: tor tail anonymis usb browser dvd submiss stick comput internet\n",
      "Cluster violet terms: rec num trump republican moor date diari roy senat thread\n",
      "Cluster yellow terms: iran iranian nuclear suprem islam minist leader tehran ali republ\n"
     ]
    }
   ],
   "source": [
    "# Print the top terms in each cluster\n",
    "print(\"Top terms per cluster:\")\n",
    "order_centroids = kmeans.cluster_centers_.argsort()[:, ::-1] # sort the centroids by their distance to the origin\n",
    "terms = tfidf_vectorizer.get_feature_names_out()\n",
    "for i in range(num_clusters):\n",
    "    print(f\"Cluster {label_to_color[i]} terms: \", end='')\n",
    "    top_terms = ', '.join([terms[j] for j in order_centroids[i, :10]]).replace(',', '')\n",
    "    print(top_terms)\n",
    "    cleaned_data.loc[cleaned_data['cluster'] == i, 'content_with_top_terms'] = cleaned_data.loc[cleaned_data['cluster'] == i, 'content_combined'] + ' ' + top_terms\n",
    "\n",
    "# write data to csv\n",
    "# cleaned_data.to_csv(\"../datasets/sample/dataset_unbalanced_with_clusters.csv\", index=False)"
   ]
  },
  {
   "cell_type": "code",
   "execution_count": 115,
   "metadata": {},
   "outputs": [
    {
     "name": "stderr",
     "output_type": "stream",
     "text": [
      "100%|██████████| 5000/5000 [00:08<00:00, 573.67it/s]\n",
      "100%|██████████| 5000/5000 [00:00<00:00, 36078.17it/s]\n",
      "100%|██████████| 5000/5000 [00:03<00:00, 1628.07it/s]\n",
      "100%|██████████| 5000/5000 [00:18<00:00, 270.21it/s]\n",
      "100%|██████████| 5000/5000 [00:00<00:00, 160401.40it/s]\n"
     ]
    },
    {
     "name": "stdout",
     "output_type": "stream",
     "text": [
      "processed 20000 rows\n",
      "finish time: 33.5052752494812\n"
     ]
    }
   ],
   "source": [
    "# Clean_data(\"../datasets/sample/dataset_unbalanced_with_clusters.csv\", \"../datasets/big/dataset_unbalanced_cleaned.csv\")\n",
    "# cleaned_content_list = \"content_tokenized\"\n",
    "# cleaned_content_string = \"content_combined\""
   ]
  },
  {
   "cell_type": "code",
   "execution_count": 130,
   "metadata": {},
   "outputs": [
    {
     "data": {
      "text/plain": [
       "'editor drop colleg editori march <num> written favor elector colleg reform sinc <date> would prefer popular elect presid gimmick endors individu state bind elector vote nation popularvot winner seem problemat one basic reason stop state legislatur strong partisan loyalti abandon agreement urgent calcul parti advantag come fore ? one legislatur anoth undo end difficult might presidentialelect reform depend take amend process serious that exampl editori cite conclus demonstr although individu state set legisl preced grant suffrag africanamerican women also popular elect senat end right entrench constitut amend left unstabl legisl gimmickri jack rakov stanford calif march <date> writer professor histori american studi polit scienc stanford univers draw draw thoma fuch num date url said new time mr peopl state year'"
      ]
     },
     "execution_count": 130,
     "metadata": {},
     "output_type": "execute_result"
    }
   ],
   "source": [
    "# cleaned_data.head(1)\n",
    "cleaned_data.iloc[0]['content_with_top_terms']"
   ]
  },
  {
   "attachments": {},
   "cell_type": "markdown",
   "metadata": {},
   "source": [
    "### Get balanced or unbalanced dataset"
   ]
  },
  {
   "cell_type": "code",
   "execution_count": 34,
   "metadata": {},
   "outputs": [
    {
     "name": "stderr",
     "output_type": "stream",
     "text": [
      "100%|██████████| 5000/5000 [00:00<00:00, 961026.49it/s]\n"
     ]
    },
    {
     "name": "stdout",
     "output_type": "stream",
     "text": [
      "entries to read: 0\n",
      "entries read: 20000\n"
     ]
    }
   ],
   "source": [
    "# importlib.reload(pp)\n",
    "# from_file = '../datasets/sample/dataset_bin_raw.csv'\n",
    "# # from_file = '../datasets/sample/news_sample_cleaned_num_100k.csv'\n",
    "# TOTALSIZE = 5000\n",
    "\n",
    "# pp.get_dataframe_with_distribution(\n",
    "#         from_file, \n",
    "#         total_size = TOTALSIZE, \n",
    "#         splits=[0.8,0.1,0.1], \n",
    "#         balanced=[False, False, False], \n",
    "#         out_file=\"../datasets/big/dataset_unbalanced.csv\", \n",
    "#         get_frame=False\n",
    "#     )\n",
    "\n"
   ]
  },
  {
   "cell_type": "code",
   "execution_count": 78,
   "metadata": {},
   "outputs": [
    {
     "data": {
      "text/plain": [
       "\"['editor', 'drop', 'colleg', 'editori', 'march', '<num>', 'written', 'favor', 'elector', 'colleg', 'reform', 'sinc', '<date>', 'would', 'prefer', 'popular', 'elect', 'presid', 'gimmick', 'endors', 'individu', 'state', 'bind', 'elector', 'vote', 'nation', 'popularvot', 'winner', 'seem', 'problemat', 'one', 'basic', 'reason', 'stop', 'state', 'legislatur', 'strong', 'partisan', 'loyalti', 'abandon', 'agreement', 'urgent', 'calcul', 'parti', 'advantag', 'come', 'fore', '?', 'one', 'legislatur', 'anoth', 'undo', 'end', 'difficult', 'might', 'presidentialelect', 'reform', 'depend', 'take', 'amend', 'process', 'serious', 'that', 'exampl', 'editori', 'cite', 'conclus', 'demonstr', 'although', 'individu', 'state', 'set', 'legisl', 'preced', 'grant', 'suffrag', 'africanamerican', 'women', 'also', 'popular', 'elect', 'senat', 'end', 'right', 'entrench', 'constitut', 'amend', 'left', 'unstabl', 'legisl', 'gimmickri', 'jack', 'rakov', 'stanford', 'calif', 'march', '<date>', 'writer', 'professor', 'histori', 'american', 'studi', 'polit', 'scienc', 'stanford', 'univers', 'draw', 'draw', 'thoma', 'fuch', 'redclust', 'num', 'said', 'mr', 'date', 'trump', 'state', 'url', 'new', 'peopl', 'obama', 'num', 'said', 'mr', 'date', 'trump', 'state', 'url', 'new', 'peopl', 'obama', 'num', 'said', 'mr', 'date', 'trump', 'state', 'url', 'new', 'peopl', 'obama', 'num', 'said', 'mr', 'date', 'trump', 'state', 'url', 'new', 'peopl', 'obama', 'num', 'said', 'mr', 'date', 'trump', 'state', 'url', 'new', 'peopl', 'obama', 'num', 'said', 'mr', 'date', 'trump', 'state', 'url', 'new', 'peopl', 'obama', 'num', 'said', 'mr', 'date', 'trump', 'state', 'url', 'new', 'peopl', 'obama']\""
      ]
     },
     "execution_count": 78,
     "metadata": {},
     "output_type": "execute_result"
    }
   ],
   "source": [
    "pd.read_csv(\"../datasets/big/dataset_unbalanced_cleaned.csv\").iloc[0][\"content_tokenized\"]"
   ]
  },
  {
   "attachments": {},
   "cell_type": "markdown",
   "metadata": {},
   "source": [
    "# Define the models"
   ]
  },
  {
   "attachments": {},
   "cell_type": "markdown",
   "metadata": {},
   "source": [
    "### Tokenize the data and make sequences"
   ]
  },
  {
   "cell_type": "code",
   "execution_count": 5,
   "metadata": {},
   "outputs": [],
   "source": [
    "importlib.reload(mt)\n",
    "\n",
    "# data = pd.read_csv(\"../datasets/sample/dataset_unbalanced_1M.csv\", usecols=[\"content_combined\", \"type_binary\",\"set\"])\n",
    "data = pd.read_csv(\"../datasets/sample/dataset_unbalanced.csv\", usecols=[\"content_combined\", \"type_binary\",\"set\"])\n",
    "data.head(1)\n",
    "\n",
    "X_train, X_val, X_test, y_train, y_val, y_test = mt.split_data(data, \"content_combined\", \"type_binary\")\n",
    "del data"
   ]
  },
  {
   "cell_type": "code",
   "execution_count": 110,
   "metadata": {},
   "outputs": [
    {
     "name": "stdout",
     "output_type": "stream",
     "text": [
      "processed 20000 rows\n",
      "finish time: 0.19864916801452637\n"
     ]
    }
   ],
   "source": [
    "importlib.reload(pp)\n",
    "\n",
    "pp.apply_pipeline(\"../datasets/big/combined_cleaned_bin.csv\", [(pp.Binary_labels_LIAR(), 'label', 'type_binary')], new_file=\"../datasets/big/combined_cleaned_bin.csv\")"
   ]
  },
  {
   "cell_type": "code",
   "execution_count": 8,
   "metadata": {},
   "outputs": [],
   "source": [
    "liar_data = pd.read_csv(\"../datasets/big/combined_cleaned_bin.csv\")\n",
    "X_liar =  liar_data[\"statement_combined\"].values\n",
    "y_liar = liar_data[\"type_binary\"].astype(int)"
   ]
  },
  {
   "attachments": {},
   "cell_type": "markdown",
   "metadata": {},
   "source": [
    "## Neural networks"
   ]
  },
  {
   "cell_type": "code",
   "execution_count": 11,
   "metadata": {},
   "outputs": [
    {
     "name": "stdout",
     "output_type": "stream",
     "text": [
      "916958\n"
     ]
    }
   ],
   "source": [
    "importlib.reload(mt)\n",
    "vocab_len = 10.000 # size of vocabulary e.g\n",
    "max_seq_length = 60 # first nr. of words\n",
    "X_train_pad, X_val_pad, X_test_pad, X_liar_pad, vocab_len = mt.create_padded_sequences(X_train, X_val, X_test, X_liar, numwords=vocab_len, maxlen=max_seq_length)"
   ]
  },
  {
   "cell_type": "code",
   "execution_count": 15,
   "metadata": {},
   "outputs": [
    {
     "name": "stdout",
     "output_type": "stream",
     "text": [
      "Model: \"sequential_6\"\n",
      "_________________________________________________________________\n",
      " Layer (type)                Output Shape              Param #   \n",
      "=================================================================\n",
      " embedding_6 (Embedding)     (None, 60, 16)            14671328  \n",
      "                                                                 \n",
      " global_average_pooling1d_1   (None, 16)               0         \n",
      " (GlobalAveragePooling1D)                                        \n",
      "                                                                 \n",
      " dense_11 (Dense)            (None, 16)                272       \n",
      "                                                                 \n",
      " dense_12 (Dense)            (None, 1)                 17        \n",
      "                                                                 \n",
      "=================================================================\n",
      "Total params: 14,671,617\n",
      "Trainable params: 14,671,617\n",
      "Non-trainable params: 0\n",
      "_________________________________________________________________\n",
      "Model: \"sequential_7\"\n",
      "_________________________________________________________________\n",
      " Layer (type)                Output Shape              Param #   \n",
      "=================================================================\n",
      " embedding_7 (Embedding)     (None, 60, 16)            14671328  \n",
      "                                                                 \n",
      " lstm_3 (LSTM)               (None, 16)                2112      \n",
      "                                                                 \n",
      " dense_13 (Dense)            (None, 1)                 17        \n",
      "                                                                 \n",
      "=================================================================\n",
      "Total params: 14,673,457\n",
      "Trainable params: 14,673,457\n",
      "Non-trainable params: 0\n",
      "_________________________________________________________________\n",
      "Model: \"sequential_8\"\n",
      "_________________________________________________________________\n",
      " Layer (type)                Output Shape              Param #   \n",
      "=================================================================\n",
      " embedding_8 (Embedding)     (None, 60, 16)            14671328  \n",
      "                                                                 \n",
      " dropout_6 (Dropout)         (None, 60, 16)            0         \n",
      "                                                                 \n",
      " lstm_4 (LSTM)               (None, 100)               46800     \n",
      "                                                                 \n",
      " dropout_7 (Dropout)         (None, 100)               0         \n",
      "                                                                 \n",
      " dense_14 (Dense)            (None, 64)                6464      \n",
      "                                                                 \n",
      " dropout_8 (Dropout)         (None, 64)                0         \n",
      "                                                                 \n",
      " dense_15 (Dense)            (None, 1)                 65        \n",
      "                                                                 \n",
      "=================================================================\n",
      "Total params: 14,724,657\n",
      "Trainable params: 14,724,657\n",
      "Non-trainable params: 0\n",
      "_________________________________________________________________\n",
      "Model: \"sequential_9\"\n",
      "_________________________________________________________________\n",
      " Layer (type)                Output Shape              Param #   \n",
      "=================================================================\n",
      " embedding_9 (Embedding)     (None, 60, 16)            14671328  \n",
      "                                                                 \n",
      " conv1d_2 (Conv1D)           (None, 56, 128)           10368     \n",
      "                                                                 \n",
      " global_max_pooling1d_2 (Glo  (None, 128)              0         \n",
      " balMaxPooling1D)                                                \n",
      "                                                                 \n",
      " dense_16 (Dense)            (None, 64)                8256      \n",
      "                                                                 \n",
      " dense_17 (Dense)            (None, 1)                 65        \n",
      "                                                                 \n",
      "=================================================================\n",
      "Total params: 14,690,017\n",
      "Trainable params: 14,690,017\n",
      "Non-trainable params: 0\n",
      "_________________________________________________________________\n"
     ]
    }
   ],
   "source": [
    "vocab = vocab_len # size of vocabulary e.g\n",
    "embedding_vector_length = 16 # dimension of embedding vector\n",
    "\n",
    "# Define the model architecture\n",
    "models = [\n",
    "    (tf.keras.Sequential([\n",
    "        tf.keras.layers.Embedding(input_dim=vocab, output_dim=embedding_vector_length, input_length=max_seq_length),\n",
    "        tf.keras.layers.GlobalAveragePooling1D(),\n",
    "        tf.keras.layers.Dense(16, activation=\"relu\"),\n",
    "        tf.keras.layers.Dense(1, activation=\"sigmoid\")\n",
    "    ]), \"Model-A\"),\n",
    "\n",
    "    (tf.keras.Sequential([\n",
    "        tf.keras.layers.Embedding(input_dim=vocab, output_dim=embedding_vector_length, input_length=max_seq_length), # 10000 words, 64 dimensions\n",
    "        tf.keras.layers.LSTM(units=16, dropout=0.2, recurrent_dropout=0.2),\n",
    "        tf.keras.layers.Dense(units=1, activation='sigmoid')\n",
    "    ]), \"Model-B\"),\n",
    "\n",
    "\n",
    "    (tf.keras.Sequential([\n",
    "            tf.keras.layers.Embedding(input_dim=vocab, output_dim=embedding_vector_length, input_length=max_seq_length), # 10000 words, 64 dimensions\n",
    "            tf.keras.layers.Dropout(0.3),\n",
    "            tf.keras.layers.LSTM(100),\n",
    "            tf.keras.layers.Dropout(0.3),\n",
    "            tf.keras.layers.Dense(64, activation='relu'),\n",
    "            tf.keras.layers.Dropout(0.3),\n",
    "            tf.keras.layers.Dense(1, activation='sigmoid')\n",
    "    ]), \"Model-C\"),\n",
    "\n",
    "    (tf.keras.Sequential([\n",
    "        tf.keras.layers.Embedding(input_dim=vocab, output_dim=embedding_vector_length, input_length=max_seq_length),\n",
    "        tf.keras.layers.Conv1D(128, 5, activation='relu'),\n",
    "        tf.keras.layers.GlobalMaxPooling1D(),\n",
    "        tf.keras.layers.Dense(64, activation='relu'),\n",
    "        tf.keras.layers.Dense(1, activation='sigmoid')\n",
    "    ]), \"Model-E\"),\n",
    "]   \n",
    "\n",
    "modelFits = []\n",
    "\n",
    "for model, name in models:\n",
    "    model.compile(optimizer=\"adam\", loss=\"binary_crossentropy\", metrics=[\"accuracy\", tf.keras.metrics.Precision(), tf.keras.metrics.Recall()])\n",
    "    model.summary()\n",
    "\n",
    "for model, name in models:\n",
    "    print(f\"Training {name}\")\n",
    "    # Train the model\n",
    "    history = model.fit(X_train_pad, y_train, epochs=4, validation_data=(X_val_pad, y_val))\n",
    "    modelFits.append((history, name))\n",
    "\n",
    "    # Evaluate the model\n",
    "    metrics = model.evaluate(X_val_pad, y_val)\n",
    "    print(f\"Loss {metrics[0]}, Accuracy {metrics[1]}, Precision {metrics[2]}, Recall {metrics[3]}\")\n"
   ]
  },
  {
   "cell_type": "code",
   "execution_count": 119,
   "metadata": {},
   "outputs": [
    {
     "name": "stdout",
     "output_type": "stream",
     "text": [
      "dict_keys(['loss', 'accuracy', 'precision_57', 'recall_57', 'val_loss', 'val_accuracy', 'val_precision_57', 'val_recall_57'])\n"
     ]
    },
    {
     "data": {
      "image/png": "[encoded data removed]",
      "text/plain": [
       "<Figure size 1200x500 with 2 Axes>"
      ]
     },
     "metadata": {},
     "output_type": "display_data"
    }
   ],
   "source": [
    "fit, name = modelFits[0]\n",
    "mt.plot_history(fit)"
   ]
  },
  {
   "cell_type": "code",
   "execution_count": null,
   "metadata": {},
   "outputs": [],
   "source": [
    "importlib.reload(mt)\n",
    "# import seaborn as sns\n",
    "\n",
    "\n",
    "for model, name in models:\n",
    "    # Evaluate the model\n",
    "    print(f\"Evaluating {name}\")\n",
    "    y_pred = model.predict(X_test_pad).round()\n",
    "    #print(mt.get_metrics(y_test, y_pred))\n",
    "    print(f\"Confusion matrix for {name}\")\n",
    "    cm = confusion_matrix(y_test, y_pred)\n",
    "    # print 0,0\n",
    "    print(\"Fake news predicted correctly:\", k)\n",
    "    sns.heatmap(cm, annot=True, cmap=\"Blues\", xticklabels=[\"Fake\",\"True\"], yticklabels=[\"Fake\",\"True\"], fmt=\"d\", annot_kws={\"size\": 12})\n",
    "    plt.xlabel(\"Predicted\")\n",
    "    plt.ylabel(\"Actual\")\n",
    "    plt.show()\n",
    "    metrics = model.evaluate(X_val_pad, y_val, verbose=0)\n",
    "    print(f\"VAL: Loss {metrics[0]}, Accuracy {metrics[1]}, Precision {metrics[2]}, Recall {metrics[3]} f1: {(2 * (metrics[2] * metrics[3]) / (metrics[2] + metrics[3]))}\")\n",
    "    metrics = model.evaluate(X_test_pad, y_test, verbose=0)\n",
    "    print(f\"TEST: Loss {metrics[0]}, Accuracy {metrics[1]}, Precision {metrics[2]}, Recall {metrics[3]}, f1: {(2 * (metrics[2] * metrics[3]) / (metrics[2] + metrics[3]))}\")\n",
    "    metrics = model.evaluate(X_liar, y_liar, verbose=0)\n",
    "    print(f\"LIAR: Loss {metrics[0]}, Accuracy {metrics[1]}, Precision {metrics[2]}, Recall {metrics[3]} f1: {(2 * (metrics[2] * metrics[3]) / (metrics[2] + metrics[3]))}\")\n"
   ]
  },
  {
   "attachments": {},
   "cell_type": "markdown",
   "metadata": {},
   "source": [
    "### LSTM + glove model"
   ]
  },
  {
   "cell_type": "code",
   "execution_count": null,
   "metadata": {},
   "outputs": [],
   "source": [
    "import numpy as np\n",
    "from keras.preprocessing.text import Tokenizer\n",
    "from keras_preprocessing.sequence import pad_sequences\n",
    "from keras.models import Sequential\n",
    "from keras.layers import Embedding, Flatten, Dense\n",
    "\n",
    "# Download and load pre-trained GloVe embeddings\n",
    "embeddings_index = {}\n",
    "with open('../datasets/glove/glove.6B.100d.txt', encoding='utf8') as f: # http://nlp.stanford.edu/data/glove.6B.zip\n",
    "    for line in f:\n",
    "        values = line.split()\n",
    "        word = values[0]\n",
    "        coefs = np.asarray(values[1:], dtype='float32')\n",
    "        embeddings_index[word] = coefs\n",
    "\n",
    "# Tokenize input text\n",
    "tokenizer = Tokenizer(num_words=10000)\n",
    "tokenizer.fit_on_texts(X_train)\n",
    "\n",
    "X_train_sequence = tokenizer.texts_to_sequences(X_train)\n",
    "X_val_sequence = tokenizer.texts_to_sequences(X_val)\n",
    "X_test_sequence = tokenizer.texts_to_sequences(X_test)\n",
    "\n",
    "word_index = tokenizer.word_index \n",
    "print(word_index)\n",
    "\n",
    "# Pad input sequences\n",
    "max_len = 100\n",
    "X_train_pad = pad_sequences(X_train_sequence, maxlen=max_len)\n",
    "X_val_pad = pad_sequences(X_val_sequence, maxlen=max_len)\n",
    "X_test_pad = pad_sequences(X_test_sequence, maxlen=max_len)\n",
    "\n",
    "# Create embedding matrix\n",
    "embedding_dim = 100\n",
    "embedding_matrix = np.zeros((len(word_index) + 1, embedding_dim))\n",
    "for word, i in word_index.items():\n",
    "    embedding_vector = embeddings_index.get(word)\n",
    "    if embedding_vector is not None:\n",
    "        embedding_matrix[i] = embedding_vector\n",
    "\n",
    "# Define model\n",
    "model = Sequential([\n",
    "    Embedding(len(word_index) + 1, embedding_dim, weights=[embedding_matrix], input_length=max_len, trainable=False),\n",
    "    Flatten(),\n",
    "    Dense(1, activation='sigmoid')\n",
    "])\n",
    "\n",
    "\n",
    "\n",
    "# Compile model\n",
    "model.compile(loss='binary_crossentropy', optimizer='adam', metrics=['accuracy'])\n",
    "model.summary()\n",
    "\n",
    "# Train model\n",
    "model.fit(X_train_pad, y_train, epochs=10, batch_size=32, validation_data=(X_val_pad, y_val))\n",
    "metrics = model.evaluate(X_val_pad, y_val)\n"
   ]
  }
 ],
 "metadata": {
  "kernelspec": {
   "display_name": "fakenews",
   "language": "python",
   "name": "python3"
  },
  "language_info": {
   "codemirror_mode": {
    "name": "ipython",
    "version": 3
   },
   "file_extension": ".py",
   "mimetype": "text/x-python",
   "name": "python",
   "nbconvert_exporter": "python",
   "pygments_lexer": "ipython3",
   "version": "3.8.16"
  },
  "vscode": {
   "interpreter": {
    "hash": "2992ddaf72722468d4c0d11bb36463a13168290ba4c0a58af11c20b52477b11b"
   }
  }
 },
 "nbformat": 4,
 "nbformat_minor": 2
}
