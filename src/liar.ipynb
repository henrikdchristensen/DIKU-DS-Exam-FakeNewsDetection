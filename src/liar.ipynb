{
 "cells": [
  {
   "cell_type": "code",
   "execution_count": 36,
   "metadata": {},
   "outputs": [],
   "source": [
    "import pandas as pd\n",
    "import pipeline as pp\n",
    "import itertools as it\n",
    "import stats_la as s"
   ]
  },
  {
   "cell_type": "code",
   "execution_count": 56,
   "metadata": {},
   "outputs": [
    {
     "name": "stderr",
     "output_type": "stream",
     "text": [
      "100%|██████████| 12791/12791 [00:00<00:00, 556568.86it/s]"
     ]
    },
    {
     "name": "stdout",
     "output_type": "stream",
     "text": [
      "processed 200000 rows\n",
      "finish time: 0.17840909957885742\n",
      "economy\n",
      "health-care\n",
      "taxes\n",
      "federal-budget\n",
      "education\n",
      "jobs\n",
      "state-budget\n",
      "candidates-biography\n",
      "elections\n",
      "immigration\n"
     ]
    },
    {
     "name": "stderr",
     "output_type": "stream",
     "text": [
      "\n"
     ]
    }
   ],
   "source": [
    "class subject(pp.FunctionApplier):\n",
    "    def __init__(self):\n",
    "        self.dict = {}\n",
    "        self.sort_by_value_dict = {}\n",
    "\n",
    "    def function_to_apply(self, cell):\n",
    "        subject_list = str(cell).split(\",\")\n",
    "        for subject in subject_list:\n",
    "            if subject in self.dict:\n",
    "                self.dict[subject] += 1\n",
    "            else:\n",
    "                self.dict[subject] = 1\n",
    "\n",
    "    def sort_dict(self):\n",
    "        self.sort_by_value_dict = dict(sorted(self.dict.items(), key=lambda x:x[1], reverse = True))\n",
    "\n",
    "    def print_top_subjects(self, n):\n",
    "        self.sort_dict()\n",
    "        d = dict(list(self.sort_by_value_dict.items())[0: n])\n",
    "        for key in list(d.keys()):\n",
    "            print(key)\n",
    "\n",
    "su = subject()\n",
    "pp.apply_pipeline(\"../datasets/liar_dataset/combined_cleaned.csv\", [\n",
    "    (su, 'subjects')\n",
    "], progress_bar=True\n",
    ")\n",
    "su.print_top_subjects(10)\n"
   ]
  },
  {
   "cell_type": "code",
   "execution_count": 54,
   "metadata": {},
   "outputs": [
    {
     "name": "stdout",
     "output_type": "stream",
     "text": [
      "processed 200000 rows\n",
      "finish time: 0.2783200740814209\n",
      "Length 10239\n",
      "count    10239.000000\n",
      "mean       106.911515\n",
      "std         59.916175\n",
      "min         11.000000\n",
      "25%         73.000000\n",
      "50%         99.000000\n",
      "75%        132.000000\n",
      "max       3192.000000\n",
      "Name: word count, dtype: float64\n"
     ]
    }
   ],
   "source": [
    "def word_count(file, new_file):\n",
    "    wc = s.word_count()\n",
    "    pp.apply_pipeline(file, [\n",
    "        (wc, None, \"word count\")\n",
    "        #(pp.Binary_labels(), \"type\")\n",
    "    ], new_file=new_file\n",
    "    )\n",
    "    df = pp.apply_pipeline(new_file, [], \n",
    "        batch_size=10239,\n",
    "        get_batch=True\n",
    "    )\n",
    "    #print(df.dtypes)\n",
    "    print(df[\"word count\"].describe())\n",
    "\n",
    "word_count(\"../datasets/liar_dataset/train.csv\", \"../datasets/liar_dataset/train_word_count.csv\")\n",
    "\n",
    "\n",
    "\n"
   ]
  },
  {
   "cell_type": "code",
   "execution_count": 53,
   "metadata": {},
   "outputs": [
    {
     "name": "stderr",
     "output_type": "stream",
     "text": [
      "100%|██████████| 12791/12791 [00:00<00:00, 888513.65it/s]"
     ]
    },
    {
     "name": "stdout",
     "output_type": "stream",
     "text": [
      "processed 200000 rows\n",
      "finish time: 0.13778305053710938\n",
      "{'republican': 5665, 'democrat': 4137, 'none': 2181, 'organization': 264, 'independent': 180, 'newsmaker': 64, 'libertarian': 51, 'journalist': 49, 'activist': 45, 'columnist': 44, 'talk-show-host': 32, 'state-official': 24, 'labor-leader': 15, 'business-leader': 11, 'tea-party-member': 10, 'education-official': 3, 'green': 3, 'constitution-party': 3, 'nan': 2, 'government-body': 2, 'county-commissioner': 2, 'liberal-party-canada': 1, 'moderate': 1, 'democratic-farmer-labor': 1, 'ocean-state-tea-party-action': 1}\n"
     ]
    },
    {
     "name": "stderr",
     "output_type": "stream",
     "text": [
      "\n"
     ]
    }
   ],
   "source": [
    "#Sender\n",
    "class party_affiliation(pp.FunctionApplier):\n",
    "    def __init__(self):\n",
    "        self.dict = {}\n",
    "        self.sort_by_value_dict = {}\n",
    "\n",
    "    def function_to_apply(self, cell):\n",
    "        affiliation = str(cell).lower()\n",
    "        if affiliation in self.dict:\n",
    "            self.dict[affiliation] += 1\n",
    "        else:\n",
    "            self.dict[affiliation] = 1\n",
    "    \n",
    "    def sort_dict(self):\n",
    "        self.sort_by_value_dict = dict(sorted(self.dict.items(), key=lambda x:x[1], reverse = True))\n",
    "\n",
    "    def print_dict(self):\n",
    "        self.sort_dict()\n",
    "        print(self.sort_by_value_dict)\n",
    "\n",
    "pa = party_affiliation()\n",
    "pp.apply_pipeline(\"../datasets/liar_dataset/combined_cleaned.csv\", [\n",
    "    (pa, \"party\")\n",
    "], progress_bar=True\n",
    ")\n",
    "pa.print_dict()"
   ]
  },
  {
   "cell_type": "markdown",
   "metadata": {},
   "source": []
  }
 ],
 "metadata": {
  "interpreter": {
   "hash": "d59e2650f512131a22a150c5c14fd943a8bb8eb74e25536a1fe4b78e0dd08d99"
  },
  "kernelspec": {
   "display_name": "Python 3.11.0 ('fake_news')",
   "language": "python",
   "name": "python3"
  },
  "language_info": {
   "codemirror_mode": {
    "name": "ipython",
    "version": 3
   },
   "file_extension": ".py",
   "mimetype": "text/x-python",
   "name": "python",
   "nbconvert_exporter": "python",
   "pygments_lexer": "ipython3",
   "version": "3.11.0"
  },
  "orig_nbformat": 4
 },
 "nbformat": 4,
 "nbformat_minor": 2
}
