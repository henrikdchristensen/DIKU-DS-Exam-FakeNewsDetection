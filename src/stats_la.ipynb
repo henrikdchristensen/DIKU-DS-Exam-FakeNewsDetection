{
 "cells": [
  {
   "cell_type": "code",
   "execution_count": 2,
   "metadata": {},
   "outputs": [],
   "source": [
    "import pandas as pd\n",
    "import stats_la as s\n",
    "import pipeline as pp\n",
    "from nltk.corpus import stopwords\n",
    "from tqdm import tqdm\n",
    "import importlib"
   ]
  },
  {
   "cell_type": "code",
   "execution_count": 28,
   "metadata": {},
   "outputs": [
    {
     "data": {
      "text/html": [
       "<div>\n",
       "<style scoped>\n",
       "    .dataframe tbody tr th:only-of-type {\n",
       "        vertical-align: middle;\n",
       "    }\n",
       "\n",
       "    .dataframe tbody tr th {\n",
       "        vertical-align: top;\n",
       "    }\n",
       "\n",
       "    .dataframe thead th {\n",
       "        text-align: right;\n",
       "    }\n",
       "</style>\n",
       "<table border=\"1\" class=\"dataframe\">\n",
       "  <thead>\n",
       "    <tr style=\"text-align: right;\">\n",
       "      <th></th>\n",
       "      <th>Unnamed: 0</th>\n",
       "      <th>id</th>\n",
       "      <th>domain</th>\n",
       "      <th>type</th>\n",
       "      <th>url</th>\n",
       "      <th>content</th>\n",
       "      <th>scraped_at</th>\n",
       "      <th>inserted_at</th>\n",
       "      <th>updated_at</th>\n",
       "      <th>title</th>\n",
       "      <th>authors</th>\n",
       "      <th>keywords</th>\n",
       "      <th>meta_keywords</th>\n",
       "      <th>meta_description</th>\n",
       "      <th>tags</th>\n",
       "      <th>summary</th>\n",
       "      <th>source</th>\n",
       "    </tr>\n",
       "  </thead>\n",
       "  <tbody>\n",
       "    <tr>\n",
       "      <th>0</th>\n",
       "      <td>0</td>\n",
       "      <td>6301449</td>\n",
       "      <td>nytimes.com</td>\n",
       "      <td>reliable</td>\n",
       "      <td>https://query.nytimes.com/gst/fullpage.html?re...</td>\n",
       "      <td>['[', \"'\", \"'\", ',', ' ', \"'\", 'h', 'e', \"'\", ...</td>\n",
       "      <td>2018-02-11 00:40:10.316783</td>\n",
       "      <td>2018-02-11 00:14:20.346838</td>\n",
       "      <td>2018-02-11 00:14:20.346871</td>\n",
       "      <td>Time to Scrap the Electoral College?</td>\n",
       "      <td>NaN</td>\n",
       "      <td>NaN</td>\n",
       "      <td>['Presidential Elections (US)', 'Electoral Col...</td>\n",
       "      <td>&lt;br&gt;To the Editor:\\n&lt;p&gt;\\n  Re ''Drop Out of th...</td>\n",
       "      <td>NaN</td>\n",
       "      <td>NaN</td>\n",
       "      <td>nytimes</td>\n",
       "    </tr>\n",
       "  </tbody>\n",
       "</table>\n",
       "</div>"
      ],
      "text/plain": [
       "   Unnamed: 0       id       domain      type  \\\n",
       "0           0  6301449  nytimes.com  reliable   \n",
       "\n",
       "                                                 url  \\\n",
       "0  https://query.nytimes.com/gst/fullpage.html?re...   \n",
       "\n",
       "                                             content  \\\n",
       "0  ['[', \"'\", \"'\", ',', ' ', \"'\", 'h', 'e', \"'\", ...   \n",
       "\n",
       "                   scraped_at                 inserted_at  \\\n",
       "0  2018-02-11 00:40:10.316783  2018-02-11 00:14:20.346838   \n",
       "\n",
       "                   updated_at                                 title  authors  \\\n",
       "0  2018-02-11 00:14:20.346871  Time to Scrap the Electoral College?      NaN   \n",
       "\n",
       "   keywords                                      meta_keywords  \\\n",
       "0       NaN  ['Presidential Elections (US)', 'Electoral Col...   \n",
       "\n",
       "                                    meta_description  tags  summary   source  \n",
       "0  <br>To the Editor:\\n<p>\\n  Re ''Drop Out of th...   NaN      NaN  nytimes  "
      ]
     },
     "execution_count": 28,
     "metadata": {},
     "output_type": "execute_result"
    }
   ],
   "source": [
    "df = pd.read_csv(\"../datasets/200_cleaned_swords.csv\", nrows=1)\n",
    "df"
   ]
  },
  {
   "cell_type": "code",
   "execution_count": 16,
   "metadata": {},
   "outputs": [
    {
     "name": "stderr",
     "output_type": "stream",
     "text": [
      "100%|██████████| 1000/1000 [00:02<00:00, 467.45it/s]\n",
      "100%|██████████| 1000/1000 [00:00<00:00, 19669.96it/s]\n"
     ]
    },
    {
     "name": "stdout",
     "output_type": "stream",
     "text": [
      "Finished processing\n",
      "processed 1000 rows\n",
      "finish time: 2.413019895553589\n"
     ]
    },
    {
     "name": "stderr",
     "output_type": "stream",
     "text": [
      "100%|██████████| 1000/1000 [00:03<00:00, 329.28it/s]\n"
     ]
    },
    {
     "name": "stdout",
     "output_type": "stream",
     "text": [
      "Finished processing\n",
      "processed 1000 rows\n",
      "finish time: 3.077237844467163\n",
      "Vocabulary\n",
      "30059\n"
     ]
    }
   ],
   "source": [
    "importlib.reload(pp)\n",
    "def Tokenize_data(file, new_file):\n",
    "    #stopwords_lst = stopwords.words('english')\n",
    "    pp.apply_pipeline(file, [\n",
    "            # Clean content\n",
    "            (pp.Clean_data(), 'content'),\n",
    "            (pp.Tokenizer(), 'content'),\n",
    "            #(pp.Combine_Content(), \"content\", \"content_combined\")\n",
    "        ],\n",
    "        new_file=new_file,\n",
    "        progress_bar=True,\n",
    "        total_rows=1000\n",
    "    )\n",
    "\n",
    "def Get_unique_words(file):\n",
    "    unique_words = pp.Generate_unique_word_list()\n",
    "    pp.apply_pipeline(file, [(unique_words, None)], progress_bar=True)\n",
    "    return unique_words\n",
    "\n",
    "Tokenize_data(\"../datasets/100k-raw.csv\", \"../datasets/200_cleaned.csv\")\n",
    "vocab1 = Get_unique_words(\"../datasets/200_cleaned.csv\")\n",
    "\n",
    "vocab_list = vocab1.get_unique_words(0,1)\n",
    "\n",
    "\n",
    "\n",
    "\n",
    "\n",
    "\n"
   ]
  },
  {
   "cell_type": "code",
   "execution_count": 32,
   "metadata": {},
   "outputs": [
    {
     "name": "stderr",
     "output_type": "stream",
     "text": [
      "100%|██████████| 1000/1000 [00:02<00:00, 397.30it/s]\n",
      "100%|██████████| 1000/1000 [00:06<00:00, 162.25it/s]\n"
     ]
    },
    {
     "name": "stdout",
     "output_type": "stream",
     "text": [
      "Finished processing\n",
      "processed 1000 rows\n",
      "finish time: 8.955582857131958\n"
     ]
    },
    {
     "name": "stderr",
     "output_type": "stream",
     "text": [
      "100%|██████████| 1000/1000 [00:00<00:00, 1239.83it/s]\n"
     ]
    },
    {
     "name": "stdout",
     "output_type": "stream",
     "text": [
      "Finished processing\n",
      "processed 1000 rows\n",
      "finish time: 0.8438708782196045\n",
      "Vocabulary after removing stopwords\n",
      "29954\n"
     ]
    }
   ],
   "source": [
    "importlib.reload(pp)\n",
    "def Remove_stopwords(file, new_file):\n",
    "    sw = stopwords.words('english')\n",
    "    pp.apply_pipeline(file, [\n",
    "            # Clean content\n",
    "            (pp.Read_String_Lst(), \"content\"),\n",
    "            (pp.Remove_stopwords2(), 'content'),\n",
    "            \n",
    "        ],\n",
    "        new_file=new_file,\n",
    "        progress_bar=True,\n",
    "    ) \n",
    "Remove_stopwords(\"../datasets/200_cleaned.csv\", \"../datasets/200_cleaned_swords.csv\")\n",
    "\n",
    "vocab2 = Get_unique_words(\"../datasets/200_cleaned_swords.csv\")\n",
    "\n",
    "vocab_list_after_stopwords = vocab2.get_unique_words(0,1)\n"
   ]
  },
  {
   "cell_type": "code",
   "execution_count": 34,
   "metadata": {},
   "outputs": [
    {
     "name": "stderr",
     "output_type": "stream",
     "text": [
      "100%|██████████| 1000/1000 [00:00<00:00, 1535.74it/s]\n",
      "100%|██████████| 1000/1000 [00:04<00:00, 210.60it/s]\n"
     ]
    },
    {
     "name": "stdout",
     "output_type": "stream",
     "text": [
      "Finished processing\n",
      "processed 1000 rows\n",
      "finish time: 5.558053970336914\n"
     ]
    },
    {
     "name": "stderr",
     "output_type": "stream",
     "text": [
      "100%|██████████| 1000/1000 [00:00<00:00, 1431.55it/s]\n"
     ]
    },
    {
     "name": "stdout",
     "output_type": "stream",
     "text": [
      "Finished processing\n",
      "processed 1000 rows\n",
      "finish time: 0.7324268817901611\n",
      "Vocabulary after removing stopwords and stem\n",
      "20040\n"
     ]
    }
   ],
   "source": [
    "importlib.reload(pp)\n",
    "def Stem(file, new_file):\n",
    "    sw = stopwords.words('english')\n",
    "    pp.apply_pipeline(file, [\n",
    "            # Clean content\n",
    "            (pp.Read_String_Lst(), \"content\"),\n",
    "            (pp.Stem(), \"content\")\n",
    "        ],\n",
    "        new_file=new_file,\n",
    "        progress_bar=True,\n",
    "    ) \n",
    "Stem(\"../datasets/200_cleaned_swords.csv\", \"../datasets/200_cleaned_swords_stem.csv\")\n",
    "\n",
    "vocab3 = Get_unique_words(\"../datasets/200_cleaned_swords_stem.csv\")\n",
    "\n",
    "vocab_list_after_stopwords_stem = vocab3.get_unique_words(0,1)\n"
   ]
  },
  {
   "cell_type": "code",
   "execution_count": 39,
   "metadata": {},
   "outputs": [
    {
     "name": "stdout",
     "output_type": "stream",
     "text": [
      "Vocabulary\n",
      "30059\n",
      "Vocabulary after removing stopwords\n",
      "29954\n",
      "Vocabulary after removing stopwords and stem\n",
      "20040\n",
      "Reduction rate\n",
      "After removing stopwords\n",
      "0.34931301773179413\n",
      "After removing stopwords and stemming\n",
      "33.33111547290329\n"
     ]
    }
   ],
   "source": [
    "print(\"Vocabulary\")\n",
    "print(len(vocab_list))\n",
    "\n",
    "print(\"Vocabulary after removing stopwords\")\n",
    "print(len(vocab_list_after_stopwords))\n",
    "\n",
    "print(\"Vocabulary after removing stopwords and stem\")\n",
    "print(len(vocab_list_after_stopwords_stem))\n",
    "\n",
    "print(\"Reduction rate\")\n",
    "print(f\"After removing stopwords\")\n",
    "print((len(vocab_list)-len(vocab_list_after_stopwords))/len(vocab_list)*100)\n",
    "\n",
    "print(f\"After removing stopwords and stemming\")\n",
    "print((len(vocab_list)-len(vocab_list_after_stopwords_stem))/len(vocab_list)*100)\n"
   ]
  },
  {
   "cell_type": "code",
   "execution_count": 3,
   "metadata": {},
   "outputs": [],
   "source": [
    "def count_and_plot(file, new_file, to_count : str):\n",
    "    nc = s.counter(to_count)\n",
    "    pp.apply_pipeline(file, [\n",
    "    (nc, None, to_count + \" count\"),\n",
    "    #(pp.Binary_labels(), \"type\")\n",
    "    ], new_file=new_file\n",
    "    )\n",
    "    df = pp.apply_pipeline(new_file, [], \n",
    "        batch_size=10000,\n",
    "        get_batch=True\n",
    "    )\n",
    "    true = df[df[\"type\"] == True][to_count + \" count\"]\n",
    "    false = df[df[\"type\"] == False][to_count + \" count\"]\n",
    "        \n",
    "    s.boxplot(true, false, to_count + \" count\")"
   ]
  },
  {
   "cell_type": "code",
   "execution_count": 4,
   "metadata": {},
   "outputs": [
    {
     "name": "stdout",
     "output_type": "stream",
     "text": [
      "processed 200000 rows\n",
      "finish time: 1.4611990451812744\n",
      "Length 10000\n"
     ]
    },
    {
     "data": {
      "image/png": "[encoded data removed]",
      "text/plain": [
       "<Figure size 750x350 with 1 Axes>"
      ]
     },
     "metadata": {},
     "output_type": "display_data"
    }
   ],
   "source": [
    "count_and_plot(\"../datasets/10k_cleaned.csv\", \"../datasets/10k_cleaned_num_count.csv\", \"<num>\")"
   ]
  },
  {
   "cell_type": "code",
   "execution_count": 5,
   "metadata": {},
   "outputs": [
    {
     "name": "stdout",
     "output_type": "stream",
     "text": [
      "processed 200000 rows\n",
      "finish time: 1.5603320598602295\n",
      "Length 10000\n"
     ]
    },
    {
     "data": {
      "image/png": "[encoded data removed]",
      "text/plain": [
       "<Figure size 750x350 with 1 Axes>"
      ]
     },
     "metadata": {},
     "output_type": "display_data"
    }
   ],
   "source": [
    "#Question mark count\n",
    "count_and_plot(\"../datasets/10k_cleaned.csv\", \"../datasets/10k_cleaned_q_count.csv\", \"?\")"
   ]
  },
  {
   "cell_type": "code",
   "execution_count": 6,
   "metadata": {},
   "outputs": [
    {
     "name": "stdout",
     "output_type": "stream",
     "text": [
      "processed 200000 rows\n",
      "finish time: 2.239267110824585\n",
      "Length 10000\n"
     ]
    },
    {
     "data": {
      "image/png": "[encoded data removed]",
      "text/plain": [
       "<Figure size 750x350 with 1 Axes>"
      ]
     },
     "metadata": {},
     "output_type": "display_data"
    }
   ],
   "source": [
    "#Exclamation mark count\n",
    "count_and_plot(\"../datasets/10k_cleaned.csv\", \"../datasets/10k_cleaned_q_count.csv\", \"!\")"
   ]
  },
  {
   "cell_type": "code",
   "execution_count": 7,
   "metadata": {},
   "outputs": [],
   "source": [
    "#Content length\n",
    "def word_count(file, new_file):\n",
    "    wc = s.word_count()\n",
    "    pp.apply_pipeline(file, [\n",
    "        (wc, None, \"word count\")\n",
    "        #(pp.Binary_labels(), \"type\")\n",
    "    ], new_file=new_file\n",
    "    )\n",
    "    df = pp.apply_pipeline(file, [], \n",
    "        batch_size=10000,\n",
    "        get_batch=True\n",
    "    )\n",
    "    true = df[df[\"type\"] == True][\"word count\"]\n",
    "    false = df[df[\"type\"] == False][\"word count\"]\n",
    "        \n",
    "    s.boxplot(true, false, \"Word count\")\n",
    "\n",
    "#word_count(\"../datasets/100k-raw.csv\", \"../datasets/100k-raw-word-count.csv\")"
   ]
  },
  {
   "cell_type": "code",
   "execution_count": null,
   "metadata": {},
   "outputs": [],
   "source": [
    "df = pd.read_csv(\"../datasets/liar_dataset/\")"
   ]
  }
 ],
 "metadata": {
  "interpreter": {
   "hash": "d59e2650f512131a22a150c5c14fd943a8bb8eb74e25536a1fe4b78e0dd08d99"
  },
  "kernelspec": {
   "display_name": "Python 3.11.0 ('fake_news')",
   "language": "python",
   "name": "python3"
  },
  "language_info": {
   "codemirror_mode": {
    "name": "ipython",
    "version": 3
   },
   "file_extension": ".py",
   "mimetype": "text/x-python",
   "name": "python",
   "nbconvert_exporter": "python",
   "pygments_lexer": "ipython3",
   "version": "3.11.0"
  },
  "orig_nbformat": 4
 },
 "nbformat": 4,
 "nbformat_minor": 2
}
