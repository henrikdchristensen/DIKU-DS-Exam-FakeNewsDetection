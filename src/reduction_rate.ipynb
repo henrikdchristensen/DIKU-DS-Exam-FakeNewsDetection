{
 "cells": [
  {
   "attachments": {},
   "cell_type": "markdown",
   "metadata": {},
   "source": [
    "Packages"
   ]
  },
  {
   "cell_type": "code",
   "execution_count": 23,
   "metadata": {},
   "outputs": [],
   "source": [
    "import pipeline as pp\n",
    "import importlib"
   ]
  },
  {
   "cell_type": "markdown",
   "metadata": {},
   "source": [
    "File to test"
   ]
  },
  {
   "cell_type": "code",
   "execution_count": 24,
   "metadata": {},
   "outputs": [],
   "source": [
    "file = \"../cleaned_file.csv\""
   ]
  },
  {
   "attachments": {},
   "cell_type": "markdown",
   "metadata": {},
   "source": [
    "Finding the vocabrolary size before and after the different cleaning operations"
   ]
  },
  {
   "cell_type": "code",
   "execution_count": 25,
   "metadata": {},
   "outputs": [],
   "source": [
    "def vocab_size(file, column):\n",
    "    unique_words = pp.Get_vocabulary_size()\n",
    "    pp.apply_pipeline(file, [(unique_words, column)], progress_bar=True)\n",
    "    return len(unique_words.get_unique_words(0,1))\n"
   ]
  },
  {
   "cell_type": "code",
   "execution_count": null,
   "metadata": {},
   "outputs": [],
   "source": [
    "importlib.reload(pp)\n",
    "\n",
    "vocab = vocab_size(file, 'content_tokenized') \n",
    "stopwords_removed = vocab_size(file, 'content_no_swords')\n",
    "stemmed = vocab_size(file, 'content_no_swords_stemmed')"
   ]
  },
  {
   "cell_type": "code",
   "execution_count": 27,
   "metadata": {},
   "outputs": [
    {
     "name": "stdout",
     "output_type": "stream",
     "text": [
      "\n",
      "Vocabulary after tokenize\n",
      "1262429\n",
      "Vocabulary after removing stopwords\n",
      "29727\n",
      "Vocabulary after removing stopwords and stem\n",
      "20016\n",
      "Reduction rate\n",
      "After removing stopwords\n",
      "97.64525371327814\n",
      "After removing stopwords and stemming\n",
      "98.41448509183486\n"
     ]
    }
   ],
   "source": [
    "\n",
    "\n",
    "print(\"\\nVocabulary after tokenize\")\n",
    "print(vocab)\n",
    "\n",
    "print(\"Vocabulary after removing stopwords\")\n",
    "print(stopwords_removed)\n",
    "\n",
    "print(\"Vocabulary after removing stopwords and stem\")\n",
    "print(stemmed)\n",
    "\n",
    "print(\"Reduction rate\")\n",
    "print(f\"After removing stopwords\")\n",
    "print((vocab-stopwords_removed)/vocab*100)\n",
    "\n",
    "print(f\"After removing stopwords and stemming\")\n",
    "print((vocab-stemmed)/vocab*100)\n"
   ]
  }
 ],
 "metadata": {
  "interpreter": {
   "hash": "d59e2650f512131a22a150c5c14fd943a8bb8eb74e25536a1fe4b78e0dd08d99"
  },
  "kernelspec": {
   "display_name": "Python 3.11.0 ('fake_news')",
   "language": "python",
   "name": "python3"
  },
  "language_info": {
   "codemirror_mode": {
    "name": "ipython",
    "version": 3
   },
   "file_extension": ".py",
   "mimetype": "text/x-python",
   "name": "python",
   "nbconvert_exporter": "python",
   "pygments_lexer": "ipython3",
   "version": "3.11.0"
  },
  "orig_nbformat": 4
 },
 "nbformat": 4,
 "nbformat_minor": 2
}
