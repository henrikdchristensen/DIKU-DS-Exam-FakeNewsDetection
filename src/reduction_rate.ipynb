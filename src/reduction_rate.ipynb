{
 "cells": [
  {
   "cell_type": "code",
   "execution_count": 16,
   "metadata": {},
   "outputs": [],
   "source": [
    "import pandas as pd\n",
    "import stats_la as s\n",
    "import pipeline as pp\n",
    "from nltk.corpus import stopwords\n",
    "from tqdm import tqdm\n",
    "import importlib"
   ]
  },
  {
   "cell_type": "code",
   "execution_count": 17,
   "metadata": {},
   "outputs": [],
   "source": [
    "file = \"../datasets/1k-red-rate-test.csv\""
   ]
  },
  {
   "cell_type": "code",
   "execution_count": 18,
   "metadata": {},
   "outputs": [
    {
     "name": "stderr",
     "output_type": "stream",
     "text": [
      "100%|██████████| 1000/1000 [00:02<00:00, 472.74it/s]\n",
      "100%|██████████| 1000/1000 [00:00<00:00, 26947.54it/s]\n",
      "100%|██████████| 1000/1000 [00:03<00:00, 281.24it/s]\n",
      "100%|██████████| 1000/1000 [00:04<00:00, 215.81it/s]\n"
     ]
    },
    {
     "name": "stdout",
     "output_type": "stream",
     "text": [
      "Finished processing\n",
      "processed 1000 rows\n",
      "finish time: 10.764192581176758\n"
     ]
    }
   ],
   "source": [
    "importlib.reload(pp)\n",
    "def Clean_data(file, new_file):\n",
    "    #stopwords_lst = stopwords.words('english')\n",
    "    pp.apply_pipeline(file, [\n",
    "            # Clean content\n",
    "            (pp.Clean_data(), 'content'),\n",
    "            (pp.Tokenizer(), 'content', 'content_tokenized'),\n",
    "            (pp.Remove_stopwords2(), 'content_tokenized', 'content_swords_removed'),\n",
    "            (pp.Stem(), 'content_swords_removed', 'content_swords_removed_stemmed')\n",
    "        ],\n",
    "        new_file=new_file,\n",
    "        progress_bar=True,\n",
    "        total_rows=1000\n",
    "    )\n",
    "\n",
    "Clean_data(\"../datasets/100k-raw copy.csv\", \"../datasets/1k-red-rate-test.csv\")"
   ]
  },
  {
   "cell_type": "code",
   "execution_count": 19,
   "metadata": {},
   "outputs": [],
   "source": [
    "def vocab_size(file, column):\n",
    "    unique_words = pp.Get_vocabulary_size()\n",
    "    pp.apply_pipeline(file, [(unique_words, column)], progress_bar=True)\n",
    "    return len(unique_words.get_unique_words(0,1))\n"
   ]
  },
  {
   "cell_type": "code",
   "execution_count": 22,
   "metadata": {},
   "outputs": [
    {
     "name": "stderr",
     "output_type": "stream",
     "text": [
      "100%|██████████| 1000/1000 [00:01<00:00, 826.25it/s]\n"
     ]
    },
    {
     "name": "stdout",
     "output_type": "stream",
     "text": [
      "Finished processing\n",
      "processed 1000 rows\n",
      "finish time: 1.318713903427124\n"
     ]
    },
    {
     "name": "stderr",
     "output_type": "stream",
     "text": [
      "100%|██████████| 1000/1000 [00:00<00:00, 1719.38it/s]\n"
     ]
    },
    {
     "name": "stdout",
     "output_type": "stream",
     "text": [
      "Finished processing\n",
      "processed 1000 rows\n",
      "finish time: 0.6778218746185303\n"
     ]
    },
    {
     "name": "stderr",
     "output_type": "stream",
     "text": [
      "100%|██████████| 1000/1000 [00:00<00:00, 1210.33it/s]"
     ]
    },
    {
     "name": "stdout",
     "output_type": "stream",
     "text": [
      "Finished processing\n",
      "processed 1000 rows\n",
      "finish time: 0.9218220710754395\n",
      "\n",
      "Vocabulary after tokenize\n",
      "29845\n",
      "Vocabulary after removing stopwords\n",
      "29727\n",
      "Vocabulary after removing stopwords and stem\n",
      "20016\n",
      "Reduction rate\n",
      "After removing stopwords\n",
      "0.39537610990115596\n",
      "After removing stopwords and stemming\n",
      "32.93348969676663\n"
     ]
    },
    {
     "name": "stderr",
     "output_type": "stream",
     "text": [
      "\n"
     ]
    }
   ],
   "source": [
    "importlib.reload(pp)\n",
    "\n",
    "vocab = vocab_size(file, 'content_tokenized') \n",
    "stopwords_removed = vocab_size(file, 'content_swords_removed')\n",
    "stemmed = vocab_size(file, 'content_swords_removed_stemmed')\n",
    "\n",
    "print(\"\\nVocabulary after tokenize\")\n",
    "print(vocab)\n",
    "\n",
    "print(\"Vocabulary after removing stopwords\")\n",
    "print(stopwords_removed)\n",
    "\n",
    "print(\"Vocabulary after removing stopwords and stem\")\n",
    "print(stemmed)\n",
    "\n",
    "print(\"Reduction rate\")\n",
    "print(f\"After removing stopwords\")\n",
    "print((vocab-stopwords_removed)/vocab*100)\n",
    "\n",
    "print(f\"After removing stopwords and stemming\")\n",
    "print((vocab-stemmed)/vocab*100)\n"
   ]
  }
 ],
 "metadata": {
  "interpreter": {
   "hash": "d59e2650f512131a22a150c5c14fd943a8bb8eb74e25536a1fe4b78e0dd08d99"
  },
  "kernelspec": {
   "display_name": "Python 3.11.0 ('fake_news')",
   "language": "python",
   "name": "python3"
  },
  "language_info": {
   "codemirror_mode": {
    "name": "ipython",
    "version": 3
   },
   "file_extension": ".py",
   "mimetype": "text/x-python",
   "name": "python",
   "nbconvert_exporter": "python",
   "pygments_lexer": "ipython3",
   "version": "3.11.0"
  },
  "orig_nbformat": 4
 },
 "nbformat": 4,
 "nbformat_minor": 2
}
