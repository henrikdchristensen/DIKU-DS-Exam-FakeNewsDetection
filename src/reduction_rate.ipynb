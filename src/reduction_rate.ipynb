{
 "cells": [
  {
   "cell_type": "code",
   "execution_count": 1,
   "metadata": {},
   "outputs": [],
   "source": [
    "import pandas as pd\n",
    "import stats_la as s\n",
    "import pipeline as pp\n",
    "from nltk.corpus import stopwords\n",
    "from tqdm import tqdm\n",
    "import importlib"
   ]
  },
  {
   "cell_type": "code",
   "execution_count": null,
   "metadata": {},
   "outputs": [],
   "source": [
    "def vocab_size(file):\n",
    "    unique_words = pp.Generate_unique_word_list()\n",
    "    pp.apply_pipeline(file, [(unique_words, None)], progress_bar=True)\n",
    "    return len(unique_words.get_unique_words(0,1))\n"
   ]
  },
  {
   "cell_type": "code",
   "execution_count": null,
   "metadata": {},
   "outputs": [],
   "source": [
    "#tokenized = FILE \n",
    "#stopwords_removed = FILE\n",
    "#stemmed = FILE\n",
    "\n",
    "print(\"Vocabulary after tokenize\")\n",
    "vocab = vocab_size(tokenized)\n",
    "print(vocab)\n",
    "\n",
    "print(\"Vocabulary after removing stopwords\")\n",
    "swords = vocab_size(stopwords_removed)\n",
    "print(swords)\n",
    "\n",
    "print(\"Vocabulary after removing stopwords and stem\")\n",
    "stem = vocab_size(stemmed)\n",
    "print(stem)\n",
    "\n",
    "print(\"Reduction rate\")\n",
    "print(f\"After removing stopwords\")\n",
    "print((vocab-swords)/vocab*100)\n",
    "\n",
    "print(f\"After removing stopwords and stemming\")\n",
    "print((vocab-stem)/vocab*100)\n"
   ]
  }
 ],
 "metadata": {
  "interpreter": {
   "hash": "d59e2650f512131a22a150c5c14fd943a8bb8eb74e25536a1fe4b78e0dd08d99"
  },
  "kernelspec": {
   "display_name": "Python 3.11.0 ('fake_news')",
   "language": "python",
   "name": "python3"
  },
  "language_info": {
   "codemirror_mode": {
    "name": "ipython",
    "version": 3
   },
   "file_extension": ".py",
   "mimetype": "text/x-python",
   "name": "python",
   "nbconvert_exporter": "python",
   "pygments_lexer": "ipython3",
   "version": "3.11.0"
  },
  "orig_nbformat": 4
 },
 "nbformat": 4,
 "nbformat_minor": 2
}
