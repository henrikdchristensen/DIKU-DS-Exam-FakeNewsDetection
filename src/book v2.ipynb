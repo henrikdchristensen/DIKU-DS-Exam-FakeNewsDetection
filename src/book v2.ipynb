{
 "cells": [
  {
   "attachments": {},
   "cell_type": "markdown",
   "metadata": {},
   "source": [
    "# Init"
   ]
  },
  {
   "cell_type": "code",
   "execution_count": 1,
   "metadata": {},
   "outputs": [
    {
     "name": "stderr",
     "output_type": "stream",
     "text": [
      "[nltk_data] Downloading package stopwords to\n",
      "[nltk_data]     C:\\Users\\madsv\\AppData\\Roaming\\nltk_data...\n",
      "[nltk_data]   Package stopwords is already up-to-date!\n"
     ]
    }
   ],
   "source": [
    "import pandas as pd\n",
    "import matplotlib.pyplot as plt\n",
    "from ast import literal_eval\n",
    "import numpy as np\n",
    "import nltk\n",
    "from nltk.corpus import stopwords\n",
    "nltk.download('stopwords')\n",
    "from time import time\n",
    "\n",
    "from sklearn.feature_extraction.text import TfidfVectorizer\n",
    "from sklearn.feature_extraction.text import CountVectorizer\n",
    "from sklearn.feature_extraction.text import TfidfTransformer\n",
    "from sklearn.metrics import accuracy_score, f1_score, precision_score, recall_score\n",
    "from sklearn.neighbors import KNeighborsClassifier\n",
    "from sklearn.model_selection import train_test_split\n",
    "from sklearn.svm import SVC\n",
    "from sklearn.neural_network import MLPClassifier\n",
    "from sklearn.model_selection import GridSearchCV\n",
    "from sklearn.linear_model import PassiveAggressiveClassifier\n",
    "from sklearn.preprocessing import normalize\n",
    "from scipy.sparse import csr_matrix, vstack\n",
    "from sklearn.linear_model import LogisticRegression\n",
    "from sklearn.naive_bayes import MultinomialNB\n",
    "from sklearn.ensemble import RandomForestClassifier\n",
    "from sklearn.tree import DecisionTreeClassifier\n",
    "from sklearn.ensemble import GradientBoostingClassifier\n",
    "from sklearn.ensemble import AdaBoostClassifier\n",
    "\n",
    "import transformers as ppb # pytorch-pretrained-bert\n",
    "import torch\n",
    "\n",
    "import pipeline as pp\n",
    "import models as ml\n",
    "\n",
    "import importlib"
   ]
  },
  {
   "attachments": {},
   "cell_type": "markdown",
   "metadata": {},
   "source": [
    "Global variables and create data set"
   ]
  },
  {
   "cell_type": "code",
   "execution_count": 3,
   "metadata": {},
   "outputs": [],
   "source": [
    "# The number of rows to train the model\n",
    "BATCH_SIZE = 10000"
   ]
  },
  {
   "cell_type": "code",
   "execution_count": 107,
   "metadata": {},
   "outputs": [
    {
     "name": "stdout",
     "output_type": "stream",
     "text": [
      "running\n"
     ]
    },
    {
     "name": "stderr",
     "output_type": "stream",
     "text": [
      "100%|██████████| 200000/200000 [00:00<00:00, 877732.96it/s]\n"
     ]
    },
    {
     "name": "stdout",
     "output_type": "stream",
     "text": [
      "entries read: 200000\n"
     ]
    }
   ],
   "source": [
    "importlib.reload(pp)\n",
    "pp.get_dataframe_with_distribution(\n",
    "    \"../datasets/big/dataset.csv\", \n",
    "    BATCH_SIZE, \n",
    "    (0.8, 0.1, 0.1),\n",
    "    (False, False, False),\n",
    "    out_file=\"../datasets/big/10K_balanced.csv\",\n",
    "    get_frame=False\n",
    ")\n"
   ]
  },
  {
   "attachments": {},
   "cell_type": "markdown",
   "metadata": {},
   "source": [
    "Entire pipeline to vectorize"
   ]
  },
  {
   "cell_type": "code",
   "execution_count": null,
   "metadata": {},
   "outputs": [],
   "source": [
    "# UNDER CONSTRUCTION\n",
    "importlib.reload(pp)\n",
    "def vectorize_raw(file, new_file):\n",
    "    stopwords_lst = stopwords.words('english')\n",
    "    pp.apply_pipeline(file, [\n",
    "        (pp.Binary_labels(), 'type'),\n",
    "        (pp.Clean_data(), 'content'),\n",
    "        (pp.Tokenizer(), \"content\"),\n",
    "        (pp.Remove_stopwords(stopwords_lst), \"content\"),\n",
    "        (pp.Stem(), \"content\")\n",
    "    ],\n",
    "    new_file=new_file,\n",
    "    progress_bar=True)\n",
    "    \n"
   ]
  },
  {
   "attachments": {},
   "cell_type": "markdown",
   "metadata": {},
   "source": [
    "# Statistics raw dataset"
   ]
  },
  {
   "attachments": {},
   "cell_type": "markdown",
   "metadata": {},
   "source": [
    "Distribution of data"
   ]
  },
  {
   "cell_type": "code",
   "execution_count": 41,
   "metadata": {},
   "outputs": [],
   "source": [
    "data = pd.read_csv(\"../datasets/big/10K_balanced.csv\")"
   ]
  },
  {
   "cell_type": "code",
   "execution_count": 17,
   "metadata": {},
   "outputs": [],
   "source": [
    "def get_distribution(data, is_percentage=True):\n",
    "    for i, label in enumerate(pp.labels):\n",
    "        if is_percentage:\n",
    "            percent = len(data[data[\"type\"] == label]) / (data.shape[0])\n",
    "        else:\n",
    "            percent = len(data[data[\"type\"] == label])\n",
    "        print(f\"{label}: {percent}\", end=\"\")\n",
    "        print(\", \", end=\"\") if i != len(pp.labels) - 1 else _"
   ]
  },
  {
   "cell_type": "code",
   "execution_count": 18,
   "metadata": {},
   "outputs": [
    {
     "name": "stdout",
     "output_type": "stream",
     "text": [
      "fake: 1020, conspiracy: 1042, junksci: 915, hate: 913, unreliable: 940, bias: 1044, satire: 920, reliable: 1148, clickbait: 934, political: 1124"
     ]
    }
   ],
   "source": [
    "get_distribution(data, is_percentage=False)"
   ]
  },
  {
   "cell_type": "code",
   "execution_count": 19,
   "metadata": {},
   "outputs": [
    {
     "name": "stdout",
     "output_type": "stream",
     "text": [
      "Distribution of train with size 8000:\n",
      "fake: 0.1, conspiracy: 0.1, junksci: 0.1, hate: 0.1, unreliable: 0.1, bias: 0.1, satire: 0.1, reliable: 0.1, clickbait: 0.1, political: 0.1\n",
      "\n",
      "Distribution of val with size 1000:\n",
      "fake: 0.1, conspiracy: 0.1, junksci: 0.1, hate: 0.1, unreliable: 0.1, bias: 0.1, satire: 0.1, reliable: 0.1, clickbait: 0.1, political: 0.1\n",
      "\n",
      "Distribution of test with size 1000:\n",
      "fake: 0.12, conspiracy: 0.142, junksci: 0.015, hate: 0.013, unreliable: 0.04, bias: 0.144, satire: 0.02, reliable: 0.248, clickbait: 0.034, political: 0.224"
     ]
    }
   ],
   "source": [
    "# find distribution of labels\n",
    "for i, set_name in enumerate([\"train\", \"val\", \"test\"]):\n",
    "    set = data[data[\"set\"] == i]\n",
    "    print(f\"Distribution of {set_name} with size {set.shape[0]}:\")\n",
    "    get_distribution(set)\n",
    "    print(\"\\n\") if i != 2 else _"
   ]
  },
  {
   "attachments": {},
   "cell_type": "markdown",
   "metadata": {},
   "source": [
    "Statistics"
   ]
  },
  {
   "cell_type": "code",
   "execution_count": 4,
   "metadata": {},
   "outputs": [
    {
     "name": "stderr",
     "output_type": "stream",
     "text": [
      "100%|██████████| 1/1 [00:00<00:00, 1005.59it/s]\n",
      "100%|██████████| 1/1 [00:00<00:00, 500.22it/s]\n"
     ]
    }
   ],
   "source": [
    "# freq plot\n",
    "importlib.reload(pp)\n",
    "unique_words = pp.Generate_unique_word_list()\n",
    "_ = pp.apply_pipeline_pd_tqdm(data, [\n",
    "    (pp.Tokenizer(), 'content'),\n",
    "    (unique_words, None, 'content')\n",
    "])"
   ]
  },
  {
   "cell_type": "code",
   "execution_count": 8,
   "metadata": {},
   "outputs": [
    {
     "data": {
      "image/png": "[encoded data removed]",
      "text/plain": [
       "<Figure size 640x480 with 1 Axes>"
      ]
     },
     "metadata": {},
     "output_type": "display_data"
    },
    {
     "data": {
      "image/png": "[encoded data removed]",
      "text/plain": [
       "<Figure size 640x480 with 1 Axes>"
      ]
     },
     "metadata": {},
     "output_type": "display_data"
    }
   ],
   "source": [
    "unique_words.plot_most_frequent(50)\n",
    "unique_words.plot_frequency_line(100)"
   ]
  },
  {
   "attachments": {},
   "cell_type": "markdown",
   "metadata": {},
   "source": [
    "# Cleaning"
   ]
  },
  {
   "attachments": {},
   "cell_type": "markdown",
   "metadata": {},
   "source": [
    "Cleaning the data"
   ]
  },
  {
   "cell_type": "code",
   "execution_count": 1,
   "metadata": {},
   "outputs": [
    {
     "ename": "NameError",
     "evalue": "name 'importlib' is not defined",
     "output_type": "error",
     "traceback": [
      "\u001b[1;31m---------------------------------------------------------------------------\u001b[0m",
      "\u001b[1;31mNameError\u001b[0m                                 Traceback (most recent call last)",
      "Cell \u001b[1;32mIn[1], line 1\u001b[0m\n\u001b[1;32m----> 1\u001b[0m importlib\u001b[39m.\u001b[39mreload(pp)\n\u001b[0;32m      3\u001b[0m \u001b[39mdef\u001b[39;00m \u001b[39mClean_data\u001b[39m(file):\n\u001b[0;32m      4\u001b[0m     stopwords_lst \u001b[39m=\u001b[39m stopwords\u001b[39m.\u001b[39mwords(\u001b[39m'\u001b[39m\u001b[39menglish\u001b[39m\u001b[39m'\u001b[39m)\n",
      "\u001b[1;31mNameError\u001b[0m: name 'importlib' is not defined"
     ]
    }
   ],
   "source": [
    "importlib.reload(pp)\n",
    "\n",
    "def Clean_data(file):\n",
    "    stopwords_lst = stopwords.words('english')\n",
    "    pp.apply_pipeline(file, [\n",
    "            (pp.Binary_labels(), 'type'),\n",
    "            (pp.Clean_data(), 'content'),\n",
    "            (pp.Tokenizer(), \"content\"),\n",
    "            (pp.Remove_stopwords(stopwords_lst), \"content\"),\n",
    "            (pp.Stem(), \"content\"),\n",
    "        ],\n",
    "        new_file=\"../datasets/big/10K_cleaned.csv\",\n",
    "        progress_bar=True\n",
    "    )\n",
    "\n",
    "cleaned_data = Clean_data(\"../datasets/big/10K_balanced.csv\")"
   ]
  },
  {
   "attachments": {},
   "cell_type": "markdown",
   "metadata": {},
   "source": [
    "Creating a list of all words"
   ]
  },
  {
   "cell_type": "code",
   "execution_count": 114,
   "metadata": {},
   "outputs": [
    {
     "name": "stderr",
     "output_type": "stream",
     "text": [
      "100%|██████████| 10000/10000 [00:09<00:00, 1062.81it/s]\n"
     ]
    },
    {
     "name": "stdout",
     "output_type": "stream",
     "text": [
      "finish time: 9.673210859298706\n",
      "words (features): 77780\n"
     ]
    }
   ],
   "source": [
    "importlib.reload(pp)\n",
    "\n",
    "def Get_unique_words(file):\n",
    "    unique_words = pp.Generate_unique_word_list()\n",
    "    pp.apply_pipeline(file, [(unique_words, None)], progress_bar=True)\n",
    "    return unique_words\n",
    "\n",
    "unique_words = Get_unique_words(\"../datasets/big/10K_cleaned.csv\")\n",
    "\n",
    "unique_words_list = unique_words.get_unique_words(0,1)\n",
    "print(\"words (features):\", len(unique_words_list))"
   ]
  },
  {
   "attachments": {},
   "cell_type": "markdown",
   "metadata": {},
   "source": [
    "# Statistics cleaned data"
   ]
  },
  {
   "cell_type": "code",
   "execution_count": 44,
   "metadata": {},
   "outputs": [],
   "source": [
    "cleaned_data = pd.read_csv(\"../datasets/big/10K_cleaned.csv\")"
   ]
  },
  {
   "cell_type": "code",
   "execution_count": 45,
   "metadata": {},
   "outputs": [
    {
     "name": "stdout",
     "output_type": "stream",
     "text": [
      "Distribution of train with size 8000:\n",
      "True: 2400, Fake: 5600\n",
      "Distribution of val with size 1000:\n",
      "True: 300, Fake: 700\n",
      "Distribution of test with size 1000:\n",
      "True: 506, Fake: 494\n"
     ]
    }
   ],
   "source": [
    "def get_distribution(data, is_percentage=True):\n",
    "    print(f\"True: {len(data[data['type'] == True])}, Fake: {len(data[data['type'] == False])}\")\n",
    "\n",
    "# find distribution of labels\n",
    "cleaned_data = pd.read_csv(\"../datasets/big/10K_cleaned.csv\")\n",
    "for i, set_name in enumerate([\"train\", \"val\", \"test\"]):\n",
    "    set = cleaned_data[cleaned_data[\"set\"] == i]\n",
    "    print(f\"Distribution of {set_name} with size {set.shape[0]}:\")\n",
    "    get_distribution(set)"
   ]
  },
  {
   "cell_type": "code",
   "execution_count": 46,
   "metadata": {},
   "outputs": [
    {
     "name": "stdout",
     "output_type": "stream",
     "text": [
      "[('<num>', 58292), ('<date>', 27886), ('<url>', 20381), ('said', 12481), ('one', 10921), ('?', 10799), ('peopl', 9921), ('like', 9342), ('use', 9080), ('would', 9076), ('year', 8871), ('state', 8752), ('new', 8675), ('time', 8435), ('also', 7631), ('us', 6508), ('make', 6418), ('say', 5915), ('go', 5907), ('get', 5772), ('even', 5672), ('!', 5660), ('system', 5296), ('mani', 5236), ('report', 5214), ('american', 5072), ('may', 5015), ('work', 5013), ('come', 4979), ('govern', 4766), ('nation', 4748), ('could', 4724), ('day', 4683), ('first', 4657), ('call', 4619), ('world', 4557), ('right', 4534), ('news', 4520), ('presid', 4464), ('see', 4458), ('trump', 4453), ('take', 4442), ('two', 4439), ('mr', 4237), ('want', 4194), ('way', 4107), ('continu', 3962), ('countri', 3952), ('know', 3945), ('includ', 3886), ('read', 3879), ('think', 3856), ('public', 3848), ('need', 3802), ('well', 3778), ('last', 3744), ('health', 3739), ('dont', 3594), ('back', 3587), ('polit', 3582), ('help', 3477), ('stori', 3453), ('much', 3447), ('live', 3419), ('look', 3415), ('support', 3400), ('show', 3379), ('commun', 3261), ('tri', 3230), ('white', 3227), ('chang', 3178), ('group', 3158), ('obama', 3148), ('thing', 3139), ('war', 3121), ('law', 3100), ('made', 3068), ('issu', 3024), ('unit', 3016), ('hous', 2935), ('good', 2928), ('<email>', 2888), ('life', 2833), ('sinc', 2796), ('million', 2777), ('offic', 2768), ('still', 2767), ('accord', 2750), ('power', 2735), ('polic', 2728), ('secur', 2724), ('school', 2721), ('end', 2714), ('tor', 2711), ('percent', 2686), ('black', 2686), ('follow', 2671), ('food', 2659), ('fact', 2659), ('person', 2632)]\n"
     ]
    },
    {
     "data": {
      "image/png": "[encoded data removed]",
      "text/plain": [
       "<Figure size 640x480 with 1 Axes>"
      ]
     },
     "metadata": {},
     "output_type": "display_data"
    },
    {
     "data": {
      "image/png": "[encoded data removed]",
      "text/plain": [
       "<Figure size 640x480 with 1 Axes>"
      ]
     },
     "metadata": {},
     "output_type": "display_data"
    }
   ],
   "source": [
    "print(unique_words.get_most_frequent(100))\n",
    "unique_words.plot_most_frequent(50)\n",
    "unique_words.plot_frequency_line(10000)"
   ]
  },
  {
   "attachments": {},
   "cell_type": "markdown",
   "metadata": {},
   "source": [
    "# Vectorization of content"
   ]
  },
  {
   "attachments": {},
   "cell_type": "markdown",
   "metadata": {},
   "source": [
    "Bag of words representation BoW"
   ]
  },
  {
   "cell_type": "code",
   "execution_count": 115,
   "metadata": {},
   "outputs": [
    {
     "name": "stderr",
     "output_type": "stream",
     "text": [
      "100%|██████████| 10000/10000 [06:59<00:00, 23.84it/s]\n",
      "c:\\Users\\madsv\\miniconda3\\envs\\penguin\\lib\\site-packages\\pandas\\core\\ops\\array_ops.py:75: FutureWarning: elementwise comparison failed; returning scalar instead, but in the future will perform elementwise comparison\n",
      "  result = libops.scalar_compare(x.ravel(), y, op)\n",
      "100%|██████████| 10000/10000 [02:01<00:00, 82.24it/s]\n"
     ]
    },
    {
     "name": "stdout",
     "output_type": "stream",
     "text": [
      "finish time: 569.1689488887787\n"
     ]
    }
   ],
   "source": [
    "importlib.reload(pp)\n",
    "\n",
    "def Vectorize_content(file, new_file, unique_words):\n",
    "    pp.apply_pipeline(file, [\n",
    "            (pp.Create_word_vector(unique_words), \"content\"),\n",
    "            (pp.Save_numpy_arr(), \"content\")\n",
    "        ], \n",
    "        new_file=new_file,\n",
    "        progress_bar=True)\n",
    "\n",
    "Vectorize_content(\"../datasets/big/10K_cleaned.csv\", \"../datasets/big/10K_vectorized.csv\", unique_words_list)"
   ]
  },
  {
   "attachments": {},
   "cell_type": "markdown",
   "metadata": {},
   "source": [
    "# Other vector formats"
   ]
  },
  {
   "cell_type": "code",
   "execution_count": 116,
   "metadata": {},
   "outputs": [
    {
     "name": "stderr",
     "output_type": "stream",
     "text": [
      "100%|██████████| 10000/10000 [01:15<00:00, 132.28it/s]\n",
      "c:\\Users\\madsv\\miniconda3\\envs\\penguin\\lib\\site-packages\\pandas\\core\\ops\\array_ops.py:75: FutureWarning: elementwise comparison failed; returning scalar instead, but in the future will perform elementwise comparison\n",
      "  result = libops.scalar_compare(x.ravel(), y, op)\n"
     ]
    }
   ],
   "source": [
    "vectors = pp.apply_pipeline_pd_tqdm(pd.read_csv(\"../datasets/big/10K_vectorized.csv\", usecols=[\"content\", \"type\", \"set\"]), [(pp.Read_numpy_arr(int), \"content\")])"
   ]
  },
  {
   "cell_type": "code",
   "execution_count": 117,
   "metadata": {},
   "outputs": [
    {
     "name": "stderr",
     "output_type": "stream",
     "text": [
      "100%|██████████| 10000/10000 [00:06<00:00, 1601.22it/s]\n"
     ]
    }
   ],
   "source": [
    "vectors_normalized = pp.apply_pipeline_pd_tqdm(vectors, [(pp.Normalize(), \"content\")])"
   ]
  },
  {
   "cell_type": "code",
   "execution_count": 118,
   "metadata": {},
   "outputs": [
    {
     "name": "stderr",
     "output_type": "stream",
     "text": [
      "100%|██████████| 10000/10000 [02:22<00:00, 70.31it/s]\n"
     ]
    }
   ],
   "source": [
    "importlib.reload(pp)\n",
    "vectors_idf = pp.apply_pipeline_pd_tqdm(vectors_normalized, [(pp.TF_IDF(unique_words.n, unique_words.n_t, unique_words_list), None, \"content\")])"
   ]
  },
  {
   "cell_type": "code",
   "execution_count": 119,
   "metadata": {},
   "outputs": [],
   "source": [
    "def test_split_from_sets(data, col=\"content\"):\n",
    "    train = data[data[\"set\"] == 0]\n",
    "    val = data[data[\"set\"] == 1]\n",
    "    test = data[data[\"set\"] == 2]\n",
    "    X_train, y_train = csr_matrix(np.stack(train[col])), train[\"type\"].astype(int)\n",
    "    X_val, y_val = csr_matrix(np.stack(val[col])), val[\"type\"].astype(int)\n",
    "    X_test, y_test = csr_matrix(np.stack(test[col])), test[\"type\"].astype(int)\n",
    "    return X_train, X_val, X_test, y_train, y_val, y_test"
   ]
  },
  {
   "cell_type": "code",
   "execution_count": 120,
   "metadata": {},
   "outputs": [],
   "source": [
    "X_train_vector, X_val_vector, X_test_vector, y_train_vector, y_val_vector, y_test_vector = test_split_from_sets(vectors)"
   ]
  },
  {
   "cell_type": "code",
   "execution_count": 121,
   "metadata": {},
   "outputs": [],
   "source": [
    "X_train_vector_normalized, X_val_vector_normalized, X_test_vector_normalized, y_train_vector_normalized, y_val_vector_normalized, y_test_vector_normalized = test_split_from_sets(vectors_normalized)"
   ]
  },
  {
   "cell_type": "code",
   "execution_count": 122,
   "metadata": {},
   "outputs": [],
   "source": [
    "X_train_idf, X_val_idf, X_test_idf, y_train_idf, y_val_idf, y_test_idf = test_split_from_sets(vectors_idf)"
   ]
  },
  {
   "attachments": {},
   "cell_type": "markdown",
   "metadata": {},
   "source": [
    "# TfidfVectorizer"
   ]
  },
  {
   "attachments": {},
   "cell_type": "markdown",
   "metadata": {},
   "source": [
    "TfidfVectorizer performs the following operations:\n",
    "* <strong>Tokenization:</strong> It breaks the text into individual words or tokens.\n",
    "* <strong>Counting:</strong> It counts the number of occurrences of each token in each document.\n",
    "* <strong>Normalization:</strong> It calculates the frequency of each token in each document by dividing the count by the total number of tokens in the document.\n",
    "* <strong>Weighting:</strong> It applies the Tfidf weighting scheme to each token in each document. The Tfidf weight of a token in a document is proportional to its frequency in the document, but inversely proportional to its frequency in the corpus (i.e., the collection of all documents)."
   ]
  },
  {
   "cell_type": "code",
   "execution_count": 57,
   "metadata": {},
   "outputs": [
    {
     "name": "stderr",
     "output_type": "stream",
     "text": [
      "100%|██████████| 10000/10000 [00:06<00:00, 1562.91it/s]\n",
      "100%|██████████| 10000/10000 [00:00<00:00, 120542.95it/s]\n"
     ]
    }
   ],
   "source": [
    "importlib.reload(pp)\n",
    "cleaned_data_combined = pp.apply_pipeline_pd_tqdm(\n",
    "    pd.read_csv(\"../datasets/big/10K_cleaned.csv\"), [\n",
    "        (pp.Read_String_Lst(), \"content\"),\n",
    "        (pp.Combine_Content(), \"content\")\n",
    "    ])"
   ]
  },
  {
   "cell_type": "code",
   "execution_count": 65,
   "metadata": {},
   "outputs": [],
   "source": [
    "  \n",
    "def vectorize_content(data, col=\"content\", new_col=\"count_vectorized\"):\n",
    "    # Prepare the tf-idf (term frequency-inverse document frequency) TODO: read up on this for report\n",
    "    start_time = time() \n",
    "    count_vectorizer = CountVectorizer(ngram_range=(1, 2))\n",
    "    tf_idf_transformer = TfidfTransformer(smooth_idf=False)\n",
    "\n",
    "    # fit and transform train data to count vectorizer\n",
    "    count_vectorizer.fit(data[col].values)\n",
    "    count_vect_train = count_vectorizer.transform(data[col].values)\n",
    "    # fit the counts vector to tfidf transformer\n",
    "    tf_idf_transformer.fit(count_vect_train)\n",
    "    count_vect_train = tf_idf_transformer.transform(count_vect_train)\n",
    "    data[new_col] = [x for x in count_vect_train]\n",
    "    #cleaned_data_combined['count_vectorized'] = cleaned_data_combined['count_vectorized'].apply(lambda x: tf_idf_transformer.transform([x]))\n",
    "\n",
    "    end_time = time()\n",
    "    print(\"Time elapsed for TF IDF transform: ,\", end_time - start_time)"
   ]
  },
  {
   "cell_type": "code",
   "execution_count": 69,
   "metadata": {},
   "outputs": [],
   "source": [
    "def split_csr_data(data, col=\"content\", get_val=True):\n",
    "    train = data[data[\"set\"] == 0]\n",
    "    val = data[data[\"set\"] == 1]\n",
    "    test = data[data[\"set\"] == 2]\n",
    "    X_train, y_train = vstack(train[col]), train[\"type\"].astype(int)\n",
    "    X_val, y_val = vstack(val[col]), val[\"type\"].astype(int)\n",
    "    X_test, y_test = vstack(test[col]), test[\"type\"].astype(int)\n",
    "    if not get_val:\n",
    "        return X_train, X_test, y_train, y_test\n",
    "    return X_train, X_val, X_test, y_train, y_val, y_test"
   ]
  },
  {
   "cell_type": "code",
   "execution_count": 58,
   "metadata": {},
   "outputs": [
    {
     "name": "stdout",
     "output_type": "stream",
     "text": [
      "Time elapsed for TF IDF transform: , 18.473822832107544\n"
     ]
    }
   ],
   "source": [
    "vectorize_content(cleaned_data_combined, col=\"content\", new_col=\"count_vectorized\")\n",
    "X_train_count, X_val_count, X_test_count, y_train_count, y_val_count, y_test_count = split_csr_data(cleaned_data_combined, col=\"count_vectorized\")"
   ]
  },
  {
   "cell_type": "code",
   "execution_count": 60,
   "metadata": {},
   "outputs": [
    {
     "data": {
      "text/html": [
       "<div>\n",
       "<style scoped>\n",
       "    .dataframe tbody tr th:only-of-type {\n",
       "        vertical-align: middle;\n",
       "    }\n",
       "\n",
       "    .dataframe tbody tr th {\n",
       "        vertical-align: top;\n",
       "    }\n",
       "\n",
       "    .dataframe thead th {\n",
       "        text-align: right;\n",
       "    }\n",
       "</style>\n",
       "<table border=\"1\" class=\"dataframe\">\n",
       "  <thead>\n",
       "    <tr style=\"text-align: right;\">\n",
       "      <th></th>\n",
       "      <th>id</th>\n",
       "      <th>domain</th>\n",
       "      <th>type</th>\n",
       "      <th>url</th>\n",
       "      <th>content</th>\n",
       "      <th>scraped_at</th>\n",
       "      <th>inserted_at</th>\n",
       "      <th>updated_at</th>\n",
       "      <th>title</th>\n",
       "      <th>authors</th>\n",
       "      <th>keywords</th>\n",
       "      <th>meta_keywords</th>\n",
       "      <th>meta_description</th>\n",
       "      <th>tags</th>\n",
       "      <th>summary</th>\n",
       "      <th>source</th>\n",
       "      <th>set</th>\n",
       "      <th>count_vectorized</th>\n",
       "    </tr>\n",
       "  </thead>\n",
       "  <tbody>\n",
       "    <tr>\n",
       "      <th>0</th>\n",
       "      <td>6301449</td>\n",
       "      <td>nytimes.com</td>\n",
       "      <td>True</td>\n",
       "      <td>https://query.nytimes.com/gst/fullpage.html?re...</td>\n",
       "      <td>editor drop colleg editori march &lt;num&gt; written...</td>\n",
       "      <td>2018-02-11 00:40:10.316783</td>\n",
       "      <td>2018-02-11 00:14:20.346838</td>\n",
       "      <td>2018-02-11 00:14:20.346871</td>\n",
       "      <td>Time to Scrap the Electoral College?</td>\n",
       "      <td>NaN</td>\n",
       "      <td>NaN</td>\n",
       "      <td>['Presidential Elections (US)', 'Electoral Col...</td>\n",
       "      <td>&lt;br&gt;To the Editor:\\n&lt;p&gt;\\n  Re ''Drop Out of th...</td>\n",
       "      <td>NaN</td>\n",
       "      <td>NaN</td>\n",
       "      <td>nytimes</td>\n",
       "      <td>0</td>\n",
       "      <td>(0, 1530792)\\t0.0904017314777479\\n  (0, 1530...</td>\n",
       "    </tr>\n",
       "  </tbody>\n",
       "</table>\n",
       "</div>"
      ],
      "text/plain": [
       "        id       domain  type  \\\n",
       "0  6301449  nytimes.com  True   \n",
       "\n",
       "                                                 url  \\\n",
       "0  https://query.nytimes.com/gst/fullpage.html?re...   \n",
       "\n",
       "                                             content  \\\n",
       "0  editor drop colleg editori march <num> written...   \n",
       "\n",
       "                   scraped_at                 inserted_at  \\\n",
       "0  2018-02-11 00:40:10.316783  2018-02-11 00:14:20.346838   \n",
       "\n",
       "                   updated_at                                 title authors  \\\n",
       "0  2018-02-11 00:14:20.346871  Time to Scrap the Electoral College?     NaN   \n",
       "\n",
       "   keywords                                      meta_keywords  \\\n",
       "0       NaN  ['Presidential Elections (US)', 'Electoral Col...   \n",
       "\n",
       "                                    meta_description tags  summary   source  \\\n",
       "0  <br>To the Editor:\\n<p>\\n  Re ''Drop Out of th...  NaN      NaN  nytimes   \n",
       "\n",
       "   set                                   count_vectorized  \n",
       "0    0    (0, 1530792)\\t0.0904017314777479\\n  (0, 1530...  "
      ]
     },
     "execution_count": 60,
     "metadata": {},
     "output_type": "execute_result"
    }
   ],
   "source": [
    "cleaned_data_combined.head(1)"
   ]
  },
  {
   "cell_type": "code",
   "execution_count": 126,
   "metadata": {},
   "outputs": [
    {
     "name": "stdout",
     "output_type": "stream",
     "text": [
      "Length 10000\n",
      "Shape of data:  (10000, 17)\n",
      "Vocabulary:  106578  words\n",
      "Shape of vect:  (10000, 106578)\n",
      "Done vectorizing data!\n"
     ]
    }
   ],
   "source": [
    "def Vectorize(file, to_csv_file_name=None):\n",
    "\n",
    "    cleaned_data = pp.apply_pipeline(file, [\n",
    "            (pp.Binary_labels(), 'type'),\n",
    "            (pp.Clean_data(), 'content')\n",
    "        ], \n",
    "        get_batch=True, \n",
    "        batch_size=BATCH_SIZE)\n",
    "\n",
    "    print(\"Shape of data: \", cleaned_data.shape)\n",
    "\n",
    "    #TODO: how to avoid leaking information from the test set? \n",
    "    vect = TfidfVectorizer(stop_words='english', max_df=0.7)\n",
    "    vect.fit(cleaned_data['content'])\n",
    "    \n",
    "    print(\"Vocabulary: \", len(vect.vocabulary_), \" words\")\n",
    "    content_tfidf = vect.transform(cleaned_data['content'])\n",
    "    print(\"Shape of vect: \", content_tfidf.shape)\n",
    "\n",
    "    vectorized_data = {\n",
    "        \"X\": content_tfidf,\n",
    "        \"y\": cleaned_data['type']\n",
    "    }\n",
    "\n",
    "    if to_csv_file_name != None:\n",
    "        content_tfidf_df = pd.DataFrame(content_tfidf.todense(),columns = vect.get_feature_names_out())\n",
    "        content_tfidf_df.to_csv(to_csv_file_name, index=False)\n",
    "\n",
    "    print(\"Done vectorizing data!\")\n",
    "    return vectorized_data\n",
    "\n",
    "vectorized_data = Vectorize(\"../datasets/big/10K_balanced.csv\")"
   ]
  },
  {
   "cell_type": "code",
   "execution_count": 127,
   "metadata": {},
   "outputs": [],
   "source": [
    "X_train, X_test, y_train, y_test = train_test_split(vectorized_data[\"X\"], vectorized_data[\"y\"].astype(int), test_size=0.20, random_state=42)\n",
    "X_val, X_test, y_val, y_test = train_test_split(X_test, y_test, test_size=0.5, random_state=42)"
   ]
  },
  {
   "attachments": {},
   "cell_type": "markdown",
   "metadata": {},
   "source": [
    "Comparing test data"
   ]
  },
  {
   "cell_type": "code",
   "execution_count": null,
   "metadata": {},
   "outputs": [
    {
     "name": "stdout",
     "output_type": "stream",
     "text": [
      "Dim of tfidf vectorized data:  (8000, 110898) <class 'scipy.sparse._csr.csr_matrix'>\n",
      "Dim of own vectorized data:  (8000, 89450) <class 'scipy.sparse._csr.csr_matrix'>\n"
     ]
    }
   ],
   "source": [
    "print(\"Dim of tfidf vectorized data: \", X_train.shape, type(X_train))\n",
    "print(\"Dim of own vectorized data: \", X_train_vector.shape, type(X_train_vector))"
   ]
  },
  {
   "attachments": {},
   "cell_type": "markdown",
   "metadata": {},
   "source": [
    "# Baseline models"
   ]
  },
  {
   "cell_type": "code",
   "execution_count": 111,
   "metadata": {},
   "outputs": [],
   "source": [
    "backup = pd.DataFrame()\n",
    "def try_models(models, X_train, X_test, y_train, y_test, name=None):\n",
    "    global backup\n",
    "    metrics = []\n",
    "    for model in models:\n",
    "        start_time = time() \n",
    "        model.fit(X_train, y_train)\n",
    "        train_time = time() - start_time\n",
    "        y_train_pred = model.predict(X_train)\n",
    "        y_pred = model.predict(X_test)\n",
    "        \n",
    "        if name == None:\n",
    "            name = type(model).__name__\n",
    "        metrics.append({\n",
    "            \"name\": name,\n",
    "            \"train_acc\": accuracy_score(y_train, y_train_pred),\n",
    "            \"test_acc\": accuracy_score(y_test, y_pred),\n",
    "            \"precision\": precision_score(y_test, y_pred),\n",
    "            \"recall\": recall_score(y_test, y_pred),\n",
    "            \"f1\": f1_score(y_test, y_pred), \n",
    "            \"time\": \"{:.2f}\".format(train_time)\n",
    "        })\n",
    "        backup = pd.DataFrame(metrics)\n",
    "        print(f\"{name} finished in {(time() - start_time):.2f} seconds\")\n",
    "    return pd.DataFrame(metrics)"
   ]
  },
  {
   "cell_type": "code",
   "execution_count": 41,
   "metadata": {},
   "outputs": [
    {
     "name": "stdout",
     "output_type": "stream",
     "text": [
      "LogisticRegression finished in 14.61 seconds\n",
      "MultinomialNB finished in 0.25 seconds\n",
      "RandomForestClassifier finished in 49.12 seconds\n",
      "DecisionTreeClassifier finished in 104.58 seconds\n",
      "AdaBoostClassifier finished in 34.64 seconds\n",
      "SVC finished in 187.00 seconds\n",
      "KNeighborsClassifier finished in 812.41 seconds\n",
      "PassiveAggressiveClassifier finished in 0.36 seconds\n"
     ]
    }
   ],
   "source": [
    "metrics = try_models([\n",
    "        LogisticRegression(),\n",
    "        MultinomialNB(),\n",
    "        RandomForestClassifier(max_depth=25),\n",
    "        DecisionTreeClassifier(),\n",
    "        AdaBoostClassifier(n_estimators=2),\n",
    "        SVC(kernel='linear'),\n",
    "        KNeighborsClassifier(n_neighbors=15, weights='distance'),\n",
    "        PassiveAggressiveClassifier(),\n",
    "        \n",
    "    ], \n",
    "    X_train_count, X_test_count, y_train_count, y_test_count\n",
    ")\n",
    "\"\"\"\n",
    "LogisticRegression finished in 14.61 seconds\n",
    "MultinomialNB finished in 0.25 seconds\n",
    "RandomForestClassifier finished in 49.12 seconds\n",
    "DecisionTreeClassifier finished in 104.58 seconds\n",
    "AdaBoostClassifier finished in 34.64 seconds\n",
    "SVC finished in 187.00 seconds\n",
    "KNeighborsClassifier finished in 812.41 seconds\n",
    "PassiveAggressiveClassifier finished in 0.36 seconds\n",
    "\n",
    "Other models (takes too long)\n",
    "AdaBoostClassifier(base_estimator=DecisionTreeClassifier(max_depth=1)),\n",
    "RandomForestClassifier(),\n",
    "GradientBoostingClassifier(),\n",
    "GradientBoostingClassifier(max_depth=1),\n",
    "\"\"\""
   ]
  },
  {
   "cell_type": "code",
   "execution_count": 52,
   "metadata": {},
   "outputs": [
    {
     "name": "stdout",
     "output_type": "stream",
     "text": [
      "\\begin{tabular}{lrrrrrl}\n",
      "\\toprule\n",
      "                       name &  train\\_acc &  test\\_acc &  precision &   recall &       f1 &   time \\\\\n",
      "\\midrule\n",
      "                        SVC &   0.997125 &     0.840 &   0.845238 & 0.838583 & 0.841897 &  98.09 \\\\\n",
      "         LogisticRegression &   0.968250 &     0.835 &   0.842315 & 0.830709 & 0.836472 &  14.57 \\\\\n",
      "PassiveAggressiveClassifier &   0.999875 &     0.831 &   0.835644 & 0.830709 & 0.833169 &   0.33 \\\\\n",
      "              MultinomialNB &   0.900375 &     0.723 &   0.650587 & 0.982283 & 0.782745 &   0.13 \\\\\n",
      "     DecisionTreeClassifier &   1.000000 &     0.770 &   0.781377 & 0.759843 & 0.770459 & 104.50 \\\\\n",
      "     RandomForestClassifier &   0.900500 &     0.766 &   0.795259 & 0.726378 & 0.759259 &  43.53 \\\\\n",
      "         AdaBoostClassifier &   0.651125 &     0.639 &   0.974194 & 0.297244 & 0.455505 &  34.50 \\\\\n",
      "       KNeighborsClassifier &   1.000000 &     0.546 &   1.000000 & 0.106299 & 0.192171 &   0.01 \\\\\n",
      "\\bottomrule\n",
      "\\end{tabular}\n",
      "\n"
     ]
    },
    {
     "name": "stderr",
     "output_type": "stream",
     "text": [
      "C:\\Users\\madsv\\AppData\\Local\\Temp\\ipykernel_37572\\3701784171.py:4: FutureWarning: In future versions `DataFrame.to_latex` is expected to utilise the base implementation of `Styler.to_latex` for formatting and rendering. The arguments signature may therefore change. It is recommended instead to use `DataFrame.style.to_latex` which also contains additional functionality.\n",
      "  print(m.to_latex(index=False))\n"
     ]
    },
    {
     "data": {
      "text/html": [
       "<div>\n",
       "<style scoped>\n",
       "    .dataframe tbody tr th:only-of-type {\n",
       "        vertical-align: middle;\n",
       "    }\n",
       "\n",
       "    .dataframe tbody tr th {\n",
       "        vertical-align: top;\n",
       "    }\n",
       "\n",
       "    .dataframe thead th {\n",
       "        text-align: right;\n",
       "    }\n",
       "</style>\n",
       "<table border=\"1\" class=\"dataframe\">\n",
       "  <thead>\n",
       "    <tr style=\"text-align: right;\">\n",
       "      <th></th>\n",
       "      <th>name</th>\n",
       "      <th>train_acc</th>\n",
       "      <th>test_acc</th>\n",
       "      <th>precision</th>\n",
       "      <th>recall</th>\n",
       "      <th>f1</th>\n",
       "      <th>time</th>\n",
       "    </tr>\n",
       "  </thead>\n",
       "  <tbody>\n",
       "    <tr>\n",
       "      <th>5</th>\n",
       "      <td>SVC</td>\n",
       "      <td>0.997125</td>\n",
       "      <td>0.840</td>\n",
       "      <td>0.845238</td>\n",
       "      <td>0.838583</td>\n",
       "      <td>0.841897</td>\n",
       "      <td>98.09</td>\n",
       "    </tr>\n",
       "    <tr>\n",
       "      <th>0</th>\n",
       "      <td>LogisticRegression</td>\n",
       "      <td>0.968250</td>\n",
       "      <td>0.835</td>\n",
       "      <td>0.842315</td>\n",
       "      <td>0.830709</td>\n",
       "      <td>0.836472</td>\n",
       "      <td>14.57</td>\n",
       "    </tr>\n",
       "    <tr>\n",
       "      <th>7</th>\n",
       "      <td>PassiveAggressiveClassifier</td>\n",
       "      <td>0.999875</td>\n",
       "      <td>0.831</td>\n",
       "      <td>0.835644</td>\n",
       "      <td>0.830709</td>\n",
       "      <td>0.833169</td>\n",
       "      <td>0.33</td>\n",
       "    </tr>\n",
       "    <tr>\n",
       "      <th>1</th>\n",
       "      <td>MultinomialNB</td>\n",
       "      <td>0.900375</td>\n",
       "      <td>0.723</td>\n",
       "      <td>0.650587</td>\n",
       "      <td>0.982283</td>\n",
       "      <td>0.782745</td>\n",
       "      <td>0.13</td>\n",
       "    </tr>\n",
       "    <tr>\n",
       "      <th>3</th>\n",
       "      <td>DecisionTreeClassifier</td>\n",
       "      <td>1.000000</td>\n",
       "      <td>0.770</td>\n",
       "      <td>0.781377</td>\n",
       "      <td>0.759843</td>\n",
       "      <td>0.770459</td>\n",
       "      <td>104.50</td>\n",
       "    </tr>\n",
       "    <tr>\n",
       "      <th>2</th>\n",
       "      <td>RandomForestClassifier</td>\n",
       "      <td>0.900500</td>\n",
       "      <td>0.766</td>\n",
       "      <td>0.795259</td>\n",
       "      <td>0.726378</td>\n",
       "      <td>0.759259</td>\n",
       "      <td>43.53</td>\n",
       "    </tr>\n",
       "    <tr>\n",
       "      <th>4</th>\n",
       "      <td>AdaBoostClassifier</td>\n",
       "      <td>0.651125</td>\n",
       "      <td>0.639</td>\n",
       "      <td>0.974194</td>\n",
       "      <td>0.297244</td>\n",
       "      <td>0.455505</td>\n",
       "      <td>34.50</td>\n",
       "    </tr>\n",
       "    <tr>\n",
       "      <th>6</th>\n",
       "      <td>KNeighborsClassifier</td>\n",
       "      <td>1.000000</td>\n",
       "      <td>0.546</td>\n",
       "      <td>1.000000</td>\n",
       "      <td>0.106299</td>\n",
       "      <td>0.192171</td>\n",
       "      <td>0.01</td>\n",
       "    </tr>\n",
       "  </tbody>\n",
       "</table>\n",
       "</div>"
      ],
      "text/plain": [
       "                          name  train_acc  test_acc  precision    recall  \\\n",
       "5                          SVC   0.997125     0.840   0.845238  0.838583   \n",
       "0           LogisticRegression   0.968250     0.835   0.842315  0.830709   \n",
       "7  PassiveAggressiveClassifier   0.999875     0.831   0.835644  0.830709   \n",
       "1                MultinomialNB   0.900375     0.723   0.650587  0.982283   \n",
       "3       DecisionTreeClassifier   1.000000     0.770   0.781377  0.759843   \n",
       "2       RandomForestClassifier   0.900500     0.766   0.795259  0.726378   \n",
       "4           AdaBoostClassifier   0.651125     0.639   0.974194  0.297244   \n",
       "6         KNeighborsClassifier   1.000000     0.546   1.000000  0.106299   \n",
       "\n",
       "         f1    time  \n",
       "5  0.841897   98.09  \n",
       "0  0.836472   14.57  \n",
       "7  0.833169    0.33  \n",
       "1  0.782745    0.13  \n",
       "3  0.770459  104.50  \n",
       "2  0.759259   43.53  \n",
       "4  0.455505   34.50  \n",
       "6  0.192171    0.01  "
      ]
     },
     "execution_count": 52,
     "metadata": {},
     "output_type": "execute_result"
    }
   ],
   "source": [
    "# sort metrics by test accuracy\n",
    "m = metrics.sort_values(by=\"f1\", ascending=False)\n",
    "# convert dataframe to latex table\n",
    "print(m.to_latex(index=False))\n",
    "m"
   ]
  },
  {
   "attachments": {},
   "cell_type": "markdown",
   "metadata": {},
   "source": [
    "Distribution of classes in train set"
   ]
  },
  {
   "cell_type": "code",
   "execution_count": 54,
   "metadata": {},
   "outputs": [
    {
     "name": "stdout",
     "output_type": "stream",
     "text": [
      "counts:  {0: 3895, 1: 4105}\n",
      "count freq {0: 0.486875, 1: 0.513125}\n"
     ]
    }
   ],
   "source": [
    "unique, counts = np.unique(y_train_count, return_counts=True)\n",
    "total = sum(counts)\n",
    "print(\"counts: \", dict(zip(unique, counts)))\n",
    "print(\"count freq\", dict(zip(unique, counts/total)))"
   ]
  },
  {
   "attachments": {},
   "cell_type": "markdown",
   "metadata": {},
   "source": [
    "# Adding featues to BM"
   ]
  },
  {
   "attachments": {},
   "cell_type": "markdown",
   "metadata": {},
   "source": [
    "We have choosen to go with logistic regression, because of high f1 (and accuracy) and low training time"
   ]
  },
  {
   "cell_type": "code",
   "execution_count": 165,
   "metadata": {},
   "outputs": [],
   "source": [
    "class Test_baseline():\n",
    "    def __init__(self):\n",
    "        self.metrics = pd.DataFrame()\n",
    "\n",
    "    def test_baseline(self, X_train, X_test, y_train, y_test, name=None, model=None):\n",
    "        if model == None:\n",
    "            model = LogisticRegression()\n",
    "        metric = try_models([model], X_train, X_test, y_train, y_test, name=name)\n",
    "        self.metrics = pd.concat([self.metrics, metric])\n",
    "        \n",
    "tests = Test_baseline()"
   ]
  },
  {
   "attachments": {},
   "cell_type": "markdown",
   "metadata": {},
   "source": [
    "Original model"
   ]
  },
  {
   "cell_type": "code",
   "execution_count": 142,
   "metadata": {},
   "outputs": [
    {
     "name": "stderr",
     "output_type": "stream",
     "text": [
      "100%|██████████| 10000/10000 [00:09<00:00, 1079.23it/s]\n",
      "100%|██████████| 10000/10000 [00:00<00:00, 114608.18it/s]\n"
     ]
    },
    {
     "name": "stdout",
     "output_type": "stream",
     "text": [
      "Time elapsed for TF IDF transform: , 20.082982778549194\n",
      "LogisticRegression finished in 15.86 seconds\n"
     ]
    }
   ],
   "source": [
    "importlib.reload(pp)\n",
    "cleaned_data_combined = pp.apply_pipeline_pd_tqdm(\n",
    "    pd.read_csv(\"../datasets/big/10K_cleaned.csv\"), [\n",
    "        (pp.Read_String_Lst(), \"content\"),\n",
    "        (pp.Combine_Content(), \"content\")\n",
    "    ])\n",
    "vectorize_content(cleaned_data_combined, col=\"content\", new_col=\"count_vectorized\")\n",
    "tests.test_baseline(*split_csr_data(cleaned_data_combined, col=\"count_vectorized\", get_val=False))"
   ]
  },
  {
   "attachments": {},
   "cell_type": "markdown",
   "metadata": {},
   "source": [
    "Adding authors"
   ]
  },
  {
   "cell_type": "code",
   "execution_count": 143,
   "metadata": {},
   "outputs": [
    {
     "name": "stderr",
     "output_type": "stream",
     "text": [
      "100%|██████████| 10000/10000 [00:00<00:00, 159801.88it/s]\n",
      "100%|██████████| 10000/10000 [00:00<00:00, 62499.22it/s]\n"
     ]
    },
    {
     "name": "stdout",
     "output_type": "stream",
     "text": [
      "Time elapsed for TF IDF transform: , 20.710522174835205\n",
      "author finished in 19.51 seconds\n"
     ]
    }
   ],
   "source": [
    "importlib.reload(pp)\n",
    "author_cleaned = pp.apply_pipeline_pd_tqdm(cleaned_data_combined, [\n",
    "        (pp.Clean_author(), \"authors\"),\n",
    "        (pp.Join_str_columns([\"content\", \"authors\"]), None, \"content_authors\")\n",
    "    ])\n",
    "vectorize_content(author_cleaned, col=\"content_authors\", new_col=\"count_vectorized\")\n",
    "tests.test_baseline(*split_csr_data(author_cleaned, col=\"count_vectorized\", get_val=False), name=\"author\")"
   ]
  },
  {
   "attachments": {},
   "cell_type": "markdown",
   "metadata": {},
   "source": [
    "Adding title"
   ]
  },
  {
   "cell_type": "code",
   "execution_count": 144,
   "metadata": {},
   "outputs": [
    {
     "name": "stderr",
     "output_type": "stream",
     "text": [
      "100%|██████████| 10000/10000 [00:00<00:00, 15969.13it/s]\n",
      "100%|██████████| 10000/10000 [00:00<00:00, 320163.66it/s]\n",
      "100%|██████████| 10000/10000 [00:00<00:00, 53094.20it/s]\n",
      "100%|██████████| 10000/10000 [00:01<00:00, 7040.20it/s]\n",
      "100%|██████████| 10000/10000 [00:00<00:00, 624970.80it/s]\n",
      "100%|██████████| 10000/10000 [00:00<00:00, 65786.50it/s]\n"
     ]
    },
    {
     "name": "stdout",
     "output_type": "stream",
     "text": [
      "Time elapsed for TF IDF transform: , 20.288733959197998\n",
      "titles finished in 10.74 seconds\n"
     ]
    }
   ],
   "source": [
    "importlib.reload(pp)\n",
    "stopwords_lst = stopwords.words('english')\n",
    "cleaned = pp.apply_pipeline_pd_tqdm(author_cleaned, [\n",
    "        (pp.Clean_data(), 'title'),\n",
    "        (pp.Tokenizer(), \"title\"),\n",
    "        (pp.Remove_stopwords(stopwords_lst), \"title\"),\n",
    "        (pp.Stem(), \"title\"),\n",
    "        (pp.Combine_Content(), \"title\"),\n",
    "        (pp.Join_str_columns([\"content\", \"title\"]), None, \"content_title\")\n",
    "    ])\n",
    "vectorize_content(cleaned, col=\"content_title\", new_col=\"count_vectorized\")\n",
    "tests.test_baseline(*split_csr_data(cleaned, col=\"count_vectorized\", get_val=False), name=\"titles\")"
   ]
  },
  {
   "attachments": {},
   "cell_type": "markdown",
   "metadata": {},
   "source": [
    "Adding domain"
   ]
  },
  {
   "cell_type": "code",
   "execution_count": 145,
   "metadata": {},
   "outputs": [
    {
     "name": "stderr",
     "output_type": "stream",
     "text": [
      "100%|██████████| 10000/10000 [00:00<00:00, 312187.69it/s]\n",
      "100%|██████████| 10000/10000 [00:00<00:00, 73661.43it/s]\n"
     ]
    },
    {
     "name": "stdout",
     "output_type": "stream",
     "text": [
      "Time elapsed for TF IDF transform: , 18.83480453491211\n",
      "domain finished in 17.91 seconds\n"
     ]
    }
   ],
   "source": [
    "importlib.reload(pp)\n",
    "cleaned_1 = pp.apply_pipeline_pd_tqdm(cleaned, [\n",
    "        (pp.Clean_domain(), 'domain'),\n",
    "        (pp.Join_str_columns([\"content\", \"domain\"]), None, \"content_domain\")\n",
    "    ])\n",
    "vectorize_content(cleaned_1, col=\"content_domain\", new_col=\"count_vectorized\")\n",
    "tests.test_baseline(*split_csr_data(cleaned_1, col=\"count_vectorized\", get_val=False), name=\"domain\")"
   ]
  },
  {
   "attachments": {},
   "cell_type": "markdown",
   "metadata": {},
   "source": [
    "Adding all 3"
   ]
  },
  {
   "cell_type": "code",
   "execution_count": 146,
   "metadata": {},
   "outputs": [
    {
     "name": "stderr",
     "output_type": "stream",
     "text": [
      "100%|██████████| 10000/10000 [00:00<00:00, 39068.72it/s]\n"
     ]
    },
    {
     "name": "stdout",
     "output_type": "stream",
     "text": [
      "Time elapsed for TF IDF transform: , 18.99656057357788\n",
      "domain_authors_title finished in 15.02 seconds\n"
     ]
    }
   ],
   "source": [
    "importlib.reload(pp)\n",
    "cleaned_2 = pp.apply_pipeline_pd_tqdm(cleaned_1, [\n",
    "        (pp.Join_str_columns([\"content\", \"domain\", \"authors\", \"title\"]), None, \"content_domain_authors_title\")\n",
    "    ])\n",
    "vectorize_content(cleaned_2, col=\"content_domain_authors_title\", new_col=\"count_vectorized\")\n",
    "tests.test_baseline(*split_csr_data(cleaned_2, col=\"count_vectorized\", get_val=False), name=\"domain_authors_title\")"
   ]
  },
  {
   "attachments": {},
   "cell_type": "markdown",
   "metadata": {},
   "source": [
    "Hyper tuning"
   ]
  },
  {
   "cell_type": "code",
   "execution_count": 167,
   "metadata": {},
   "outputs": [],
   "source": [
    "X_train_1, X_test_1, y_train_1, y_test_1 = split_csr_data(cleaned_2, col=\"count_vectorized\", get_val=False)"
   ]
  },
  {
   "cell_type": "code",
   "execution_count": 173,
   "metadata": {},
   "outputs": [
    {
     "name": "stdout",
     "output_type": "stream",
     "text": [
      "Fitting 5 folds for each of 1 candidates, totalling 5 fits\n",
      "[CV] END ................................C=275, max_iter=200; total time= 1.0min\n",
      "[CV] END ................................C=275, max_iter=200; total time=  56.3s\n",
      "[CV] END ................................C=275, max_iter=200; total time= 1.0min\n",
      "[CV] END ................................C=275, max_iter=200; total time= 1.2min\n",
      "[CV] END ................................C=275, max_iter=200; total time=  59.7s\n",
      "domain_authors_title_hyper_5 finished in 396.87 seconds\n",
      "LogisticRegression(C=275, max_iter=200)\n"
     ]
    }
   ],
   "source": [
    "model = LogisticRegression()\n",
    "#param_grid = {'penalty': ['l1', 'l2'],'C': [0.001, 0.01, 0.1, 1, 10, 100],'solver': ['liblinear', 'saga']}\n",
    "#param_grid = {\"C\": [175, 185, 200], \"max_iter\": [175, 185, 200]}\n",
    "param_grid = {\"C\": [275], \"max_iter\": [200]}\n",
    "grid = GridSearchCV(estimator=model,\n",
    "                    param_grid=param_grid,\n",
    "                    cv=5,\n",
    "                    scoring=['f1'],\n",
    "                    refit='f1',\n",
    "                    verbose=2) #'accuracy'\n",
    "tests.test_baseline(X_train_1, X_test_1, y_train_1, y_test_1, name=\"domain_authors_title_hyper_5\", model=grid)\n",
    "print(grid.best_estimator_)"
   ]
  },
  {
   "cell_type": "code",
   "execution_count": 175,
   "metadata": {},
   "outputs": [
    {
     "name": "stdout",
     "output_type": "stream",
     "text": [
      "Fitting 5 folds for each of 1 candidates, totalling 5 fits\n",
      "[CV] END ................................C=275, max_iter=200; total time= 1.1min\n",
      "[CV] END ................................C=275, max_iter=200; total time=  55.6s\n",
      "[CV] END ................................C=275, max_iter=200; total time= 1.1min\n",
      "[CV] END ................................C=275, max_iter=200; total time= 1.2min\n",
      "[CV] END ................................C=275, max_iter=200; total time= 1.0min\n",
      "domain_authors_title_hyper_6 finished in 361.93 seconds\n",
      "LogisticRegression(C=275, max_iter=200)\n"
     ]
    }
   ],
   "source": [
    "logreg = LogisticRegression()\n",
    "\n",
    "# Define hyperparameters to tune\n",
    "param_grid = {'penalty': ['l1', 'l2'],\n",
    "              'C': [300],\n",
    "              'solver': ['liblinear', 'saga']}\n",
    "\n",
    "# Define evaluation metric\n",
    "scoring = 'accuracy'\n",
    "\n",
    "# Perform grid search with cross-validation\n",
    "grid_search = GridSearchCV(estimator=logreg, param_grid=param_grid, scoring=scoring, cv=5)\n",
    "tests.test_baseline(X_train_1, X_test_1, y_train_1, y_test_1, name=\"domain_authors_title_hyper_6\", model=grid)\n",
    "print(grid.best_estimator_)"
   ]
  },
  {
   "cell_type": "code",
   "execution_count": 174,
   "metadata": {},
   "outputs": [
    {
     "data": {
      "text/html": [
       "<div>\n",
       "<style scoped>\n",
       "    .dataframe tbody tr th:only-of-type {\n",
       "        vertical-align: middle;\n",
       "    }\n",
       "\n",
       "    .dataframe tbody tr th {\n",
       "        vertical-align: top;\n",
       "    }\n",
       "\n",
       "    .dataframe thead th {\n",
       "        text-align: right;\n",
       "    }\n",
       "</style>\n",
       "<table border=\"1\" class=\"dataframe\">\n",
       "  <thead>\n",
       "    <tr style=\"text-align: right;\">\n",
       "      <th></th>\n",
       "      <th>name</th>\n",
       "      <th>train_acc</th>\n",
       "      <th>test_acc</th>\n",
       "      <th>precision</th>\n",
       "      <th>recall</th>\n",
       "      <th>f1</th>\n",
       "      <th>time</th>\n",
       "    </tr>\n",
       "  </thead>\n",
       "  <tbody>\n",
       "    <tr>\n",
       "      <th>0</th>\n",
       "      <td>domain_authors_title_hyper_5</td>\n",
       "      <td>1.0</td>\n",
       "      <td>0.907</td>\n",
       "      <td>0.915832</td>\n",
       "      <td>0.899606</td>\n",
       "      <td>0.907646</td>\n",
       "      <td>396.84</td>\n",
       "    </tr>\n",
       "  </tbody>\n",
       "</table>\n",
       "</div>"
      ],
      "text/plain": [
       "                           name  train_acc  test_acc  precision    recall  \\\n",
       "0  domain_authors_title_hyper_5        1.0     0.907   0.915832  0.899606   \n",
       "\n",
       "         f1    time  \n",
       "0  0.907646  396.84  "
      ]
     },
     "execution_count": 174,
     "metadata": {},
     "output_type": "execute_result"
    }
   ],
   "source": [
    "tests.metrics.sort_values(by=\"f1\", ascending=False)"
   ]
  },
  {
   "cell_type": "code",
   "execution_count": 109,
   "metadata": {},
   "outputs": [
    {
     "data": {
      "text/plain": [
       "'editor drop colleg editori march <num> written favor elector colleg reform sinc <date> would prefer popular elect presid gimmick endors individu state bind elector vote nation popularvot winner seem problemat one basic reason stop state legislatur strong partisan loyalti abandon agreement urgent calcul parti advantag come fore ? one legislatur anoth undo end difficult might presidentialelect reform depend take amend process serious that exampl editori cite conclus demonstr although individu state set legisl preced grant suffrag africanamerican women also popular elect senat end right entrench constitut amend left unstabl legisl gimmickri jack rakov stanford calif march <date> writer professor histori american studi polit scienc stanford univers draw draw thoma fuch'"
      ]
     },
     "execution_count": 109,
     "metadata": {},
     "output_type": "execute_result"
    }
   ],
   "source": [
    "author_cleaned[\"content_authors\"][0]"
   ]
  },
  {
   "cell_type": "code",
   "execution_count": 95,
   "metadata": {},
   "outputs": [
    {
     "data": {
      "text/plain": [
       "'ive written anoth channel advic republican senat scrupul adher constitut form scalia constitution enter battl replac irreplac justic agre pete republican becom ideolog disast tyler cowen thought erudit fairli libertarian economist reflect libertarian learn unexpect rise trump one takeaway true cosmopolitan hard find guess that true although depend mean cosmopolitan libertarian economist view ive learn cowen book cosmopolitan free individu who product enough abl enjoy detach abstract displac multicultur point view variou cultur peopl world offer foodi cowen exampl enjoy french ethiopian food without repress baggag actual french ethiopian true enough peopl free enough habit abstract think facil role player deploy technic skill wide varieti set prepar flourish <num> stcenturi global competit marketplac still someon might say kind detach isnt true cosmopolitan genuin citizen world might necessari member commun philosoph dedic pursu truth share might necessari member citi god love relat person commun includ us might member stoic commun ration virtuou men women across time space know one anoth pericl marcu aureliu robert e lee kind could go true cosmopolitan isnt mere free relat prejudic maxim person product servic random person prefer realli true agre trumpism forth level extent rebellion empti irrespons cosmopolitan mere cognit elit one distinguish marvel unpreced capac almost infinit product mental labor kind faux cosmopolitan experi privileg one accompani correspond respons one problem libertarian think citizenship real ennobl human experi problem share much even augustinian christian dont think polit divers citi man meant displac citi god peopl find person fulfil love work institut correspond limit exist embodi anim relat long limit arent even limit exactli shape experi us us suppos citizen world someon might say must citizen particular countri truth selfconsci case us particular experi limit number place get access univers truth love person god Peter Augustine Lawler'"
      ]
     },
     "execution_count": 95,
     "metadata": {},
     "output_type": "execute_result"
    }
   ],
   "source": [
    "# get first row\n",
    "\" \".join([cleaned_data_combined.iloc[1][col] for col in [\"content\", \"authors\"]])"
   ]
  },
  {
   "attachments": {},
   "cell_type": "markdown",
   "metadata": {},
   "source": [
    "# Advanced Models"
   ]
  },
  {
   "attachments": {},
   "cell_type": "markdown",
   "metadata": {},
   "source": [
    "Word embeddings"
   ]
  },
  {
   "cell_type": "code",
   "execution_count": null,
   "metadata": {},
   "outputs": [],
   "source": [
    "BATCH_SIZE = 100"
   ]
  },
  {
   "cell_type": "code",
   "execution_count": null,
   "metadata": {},
   "outputs": [],
   "source": [
    "data_embeddings = pp.apply_pipeline(\"../datasets/sample/dataset.csv\", [(pp.binary_labels(), \"type\")], get_batch=True, batch_size=BATCH_SIZE)"
   ]
  },
  {
   "cell_type": "code",
   "execution_count": null,
   "metadata": {},
   "outputs": [
    {
     "name": "stderr",
     "output_type": "stream",
     "text": [
      "All TF 2.0 model weights were used when initializing DistilBertModel.\n",
      "\n",
      "All the weights of DistilBertModel were initialized from the TF 2.0 model.\n",
      "If your task is similar to the task the model of the checkpoint was trained on, you can already use DistilBertModel for predictions without further training.\n",
      "Token indices sequence length is longer than the specified maximum sequence length for this model (1771 > 512). Running this sequence through the model will result in indexing errors\n"
     ]
    }
   ],
   "source": [
    "def distilBERT(data):\n",
    "    content = data['content']\n",
    "\n",
    "    #Tokenizer and model input\n",
    "    pretrained_weights = 'distilbert-base-uncased'\n",
    "    tokenizer = ppb.DistilBertTokenizer.from_pretrained(pretrained_weights)\n",
    "    model = ppb.DistilBertModel.from_pretrained(pretrained_weights, from_tf=True)\n",
    "\n",
    "    #Tokenize input\n",
    "    tokenized = content.apply((lambda x: tokenizer.encode(x, add_special_tokens=True)))\n",
    "    model.eval()\n",
    "\n",
    "    #Pad input so that all sequences are of the same size:\n",
    "    max_len = 0\n",
    "    for i in tokenized.values:\n",
    "        if len(i) > max_len:\n",
    "            max_len = len(i)\n",
    "    padded = np.array([i + [0]*(max_len-len(i)) for i in tokenized.values])\n",
    "    padded = padded[:,:32]\n",
    "\n",
    "    # Tell embedding model to disregard pad tokens\n",
    "    attention_mask = np.where(padded != 0, 1, 0)\n",
    "    \n",
    "    device = torch.device(\"cpu\")\n",
    "\n",
    "    if torch.cuda.is_available():\n",
    "      model = model.cuda()\n",
    "      device = torch.device(\"cuda\")\n",
    "\n",
    "    # Convert input to a pytorch tensor\n",
    "    input = torch.tensor(np.array(padded), device=device)\n",
    "    attention_mask = torch.tensor(attention_mask, device=device)\n",
    "\n",
    "    # Embed sequences (processing in batches to avoid memory problems)\n",
    "    batch_size= 200\n",
    "    embeddings = []\n",
    "\n",
    "    for start_index in range(0, input.shape[0], batch_size):\n",
    "      with torch.no_grad():\n",
    "        # Call embedding model\n",
    "        embedding = model(input[start_index:start_index+batch_size], \n",
    "                          attention_mask=attention_mask[start_index:start_index+batch_size])[0][:,0,:]\n",
    "        embeddings.append(embedding)\n",
    "    embeddings = torch.cat(embeddings)   # concatenate all batch outputs back into one tensor\n",
    "\n",
    "    # Move embeddings back to numpy\n",
    "    embeddings = embeddings.cpu().numpy()\n",
    "    \n",
    "    return embeddings\n",
    "  \n",
    "embeddings = distilBERT(data_embeddings)"
   ]
  },
  {
   "cell_type": "code",
   "execution_count": null,
   "metadata": {},
   "outputs": [
    {
     "name": "stdout",
     "output_type": "stream",
     "text": [
      "Fitting 5 folds for each of 25 candidates, totalling 125 fits\n",
      "multi layer peceptron accuracy: 0.788\n"
     ]
    },
    {
     "name": "stderr",
     "output_type": "stream",
     "text": [
      "c:\\Users\\madsv\\miniconda3\\envs\\penguin\\lib\\site-packages\\sklearn\\neural_network\\_multilayer_perceptron.py:684: ConvergenceWarning: Stochastic Optimizer: Maximum iterations (200) reached and the optimization hasn't converged yet.\n",
      "  warnings.warn(\n"
     ]
    }
   ],
   "source": [
    "labels = data_embeddings['type'].astype(int)\n",
    "X_train, X_test, y_train, y_test = train_test_split(embeddings, labels, test_size=0.2, random_state=42)\n",
    "\n",
    "layers = [1,2,3,4,5]\n",
    "layer_sizes = [2,5,8,11,14]\n",
    "tuple_list = []\n",
    "\n",
    "for layer_size in layer_sizes:\n",
    "    for layer in layers:\n",
    "        tuple_list.append((layer_size,) * layer)\n",
    "        \n",
    "inputs = {'hidden_layer_sizes': tuple_list}\n",
    "\n",
    "# Define the classifier classes\n",
    "MLP = MLPClassifier()\n",
    "\n",
    "\n",
    "#Gridsearch\n",
    "cross_val = GridSearchCV(MLP, inputs, n_jobs=-1, cv=5, verbose=1)\n",
    "\n",
    "# Fit the model\n",
    "cross_val.fit(X_train, y_train)\n",
    "\n",
    "# Predict on the test set\n",
    "MLP_pred = cross_val.predict(X_test)\n",
    "\n",
    "print(\"multi layer peceptron accuracy:\", accuracy_score(y_test, MLP_pred))\n"
   ]
  },
  {
   "attachments": {},
   "cell_type": "markdown",
   "metadata": {},
   "source": [
    "Neural network"
   ]
  },
  {
   "cell_type": "code",
   "execution_count": null,
   "metadata": {},
   "outputs": [
    {
     "data": {
      "text/plain": [
       "(6000, 109205)"
      ]
     },
     "execution_count": 82,
     "metadata": {},
     "output_type": "execute_result"
    }
   ],
   "source": [
    "X_train.shape"
   ]
  },
  {
   "cell_type": "code",
   "execution_count": null,
   "metadata": {},
   "outputs": [],
   "source": [
    "def neural_network(X_train, X_test, y_train, y_test):\n",
    "    # Define the classifier classes\n",
    "    neural_network = MLPClassifier(hidden_layer_sizes=(5000,500,50), max_iter=10000, verbose=True)\n",
    "\n",
    "    # Fit the model\n",
    "    neural_network.fit(X_train, y_train)\n",
    "\n",
    "    # Predict on the test set\n",
    "    neural_network_pred = neural_network.predict(X_test)\n",
    "\n",
    "    # Evaluate performance\n",
    "    print(\"neural_network accuracy:\", accuracy_score(y_test, neural_network_pred))\n",
    "\n",
    "neural_network(X_train, X_test, y_train, y_test)"
   ]
  },
  {
   "cell_type": "code",
   "execution_count": null,
   "metadata": {},
   "outputs": [
    {
     "name": "stdout",
     "output_type": "stream",
     "text": [
      "Epoch 1/30\n",
      "25/25 [==============================] - 1s 14ms/step - loss: 0.7602 - accuracy: 0.4812 - val_loss: 0.6951 - val_accuracy: 0.4950\n",
      "Epoch 2/30\n",
      "25/25 [==============================] - 0s 8ms/step - loss: 0.6971 - accuracy: 0.5163 - val_loss: 0.6920 - val_accuracy: 0.5050\n",
      "Epoch 3/30\n",
      "25/25 [==============================] - 0s 8ms/step - loss: 0.6875 - accuracy: 0.5450 - val_loss: 0.6879 - val_accuracy: 0.5450\n",
      "Epoch 4/30\n",
      "25/25 [==============================] - 0s 7ms/step - loss: 0.6837 - accuracy: 0.5600 - val_loss: 0.6853 - val_accuracy: 0.5200\n",
      "Epoch 5/30\n",
      "25/25 [==============================] - 0s 7ms/step - loss: 0.6760 - accuracy: 0.5650 - val_loss: 0.6792 - val_accuracy: 0.5600\n",
      "Epoch 6/30\n",
      "25/25 [==============================] - 0s 7ms/step - loss: 0.6615 - accuracy: 0.6087 - val_loss: 0.6704 - val_accuracy: 0.5700\n",
      "Epoch 7/30\n",
      "25/25 [==============================] - 0s 8ms/step - loss: 0.6305 - accuracy: 0.6637 - val_loss: 0.6490 - val_accuracy: 0.6750\n",
      "Epoch 8/30\n",
      "25/25 [==============================] - 0s 8ms/step - loss: 0.5838 - accuracy: 0.7188 - val_loss: 0.6269 - val_accuracy: 0.6600\n",
      "Epoch 9/30\n",
      "25/25 [==============================] - 0s 7ms/step - loss: 0.5061 - accuracy: 0.8175 - val_loss: 0.5927 - val_accuracy: 0.7000\n",
      "Epoch 10/30\n",
      "25/25 [==============================] - 0s 7ms/step - loss: 0.4304 - accuracy: 0.8788 - val_loss: 0.5714 - val_accuracy: 0.7100\n",
      "Epoch 11/30\n",
      "25/25 [==============================] - 0s 7ms/step - loss: 0.3614 - accuracy: 0.8863 - val_loss: 0.5401 - val_accuracy: 0.7650\n",
      "Epoch 12/30\n",
      "25/25 [==============================] - 0s 8ms/step - loss: 0.3068 - accuracy: 0.8988 - val_loss: 0.5310 - val_accuracy: 0.7350\n",
      "Epoch 13/30\n",
      "25/25 [==============================] - 0s 7ms/step - loss: 0.2557 - accuracy: 0.9225 - val_loss: 0.5082 - val_accuracy: 0.7650\n",
      "Epoch 14/30\n",
      "25/25 [==============================] - 0s 7ms/step - loss: 0.2092 - accuracy: 0.9450 - val_loss: 0.5420 - val_accuracy: 0.7050\n",
      "Epoch 15/30\n",
      "25/25 [==============================] - 0s 7ms/step - loss: 0.1799 - accuracy: 0.9538 - val_loss: 0.5106 - val_accuracy: 0.7350\n",
      "Epoch 16/30\n",
      "25/25 [==============================] - 0s 7ms/step - loss: 0.1610 - accuracy: 0.9500 - val_loss: 0.5095 - val_accuracy: 0.7800\n",
      "Epoch 17/30\n",
      "25/25 [==============================] - 0s 8ms/step - loss: 0.1332 - accuracy: 0.9712 - val_loss: 0.5084 - val_accuracy: 0.7550\n",
      "Epoch 18/30\n",
      "25/25 [==============================] - 0s 8ms/step - loss: 0.1292 - accuracy: 0.9588 - val_loss: 0.5166 - val_accuracy: 0.7550\n",
      "Epoch 19/30\n",
      "25/25 [==============================] - 0s 8ms/step - loss: 0.1106 - accuracy: 0.9750 - val_loss: 0.5274 - val_accuracy: 0.7550\n",
      "Epoch 20/30\n",
      "25/25 [==============================] - 0s 8ms/step - loss: 0.0947 - accuracy: 0.9825 - val_loss: 0.5345 - val_accuracy: 0.7600\n",
      "Epoch 21/30\n",
      "25/25 [==============================] - 0s 7ms/step - loss: 0.0842 - accuracy: 0.9850 - val_loss: 0.5399 - val_accuracy: 0.7700\n",
      "Epoch 22/30\n",
      "25/25 [==============================] - 0s 8ms/step - loss: 0.0797 - accuracy: 0.9800 - val_loss: 0.5459 - val_accuracy: 0.7900\n",
      "Epoch 23/30\n",
      "25/25 [==============================] - 0s 8ms/step - loss: 0.0794 - accuracy: 0.9737 - val_loss: 0.6072 - val_accuracy: 0.7300\n",
      "Epoch 24/30\n",
      "25/25 [==============================] - 0s 7ms/step - loss: 0.0688 - accuracy: 0.9837 - val_loss: 0.5833 - val_accuracy: 0.7750\n",
      "Epoch 25/30\n",
      "25/25 [==============================] - 0s 8ms/step - loss: 0.0639 - accuracy: 0.9875 - val_loss: 0.5806 - val_accuracy: 0.7850\n",
      "Epoch 26/30\n",
      "25/25 [==============================] - 0s 7ms/step - loss: 0.0553 - accuracy: 0.9875 - val_loss: 0.6066 - val_accuracy: 0.7650\n",
      "Epoch 27/30\n",
      "25/25 [==============================] - 0s 7ms/step - loss: 0.0502 - accuracy: 0.9912 - val_loss: 0.6485 - val_accuracy: 0.7300\n",
      "Epoch 28/30\n",
      "25/25 [==============================] - 0s 7ms/step - loss: 0.0446 - accuracy: 0.9937 - val_loss: 0.6149 - val_accuracy: 0.7800\n",
      "Epoch 29/30\n",
      "25/25 [==============================] - 0s 8ms/step - loss: 0.0410 - accuracy: 0.9937 - val_loss: 0.6187 - val_accuracy: 0.7850\n",
      "Epoch 30/30\n",
      "25/25 [==============================] - 0s 7ms/step - loss: 0.0378 - accuracy: 0.9975 - val_loss: 0.6293 - val_accuracy: 0.7800\n",
      "7/7 [==============================] - 0s 3ms/step - loss: 0.6293 - accuracy: 0.7800\n"
     ]
    },
    {
     "data": {
      "text/plain": [
       "[0.6293168067932129, 0.7799999713897705]"
      ]
     },
     "execution_count": 18,
     "metadata": {},
     "output_type": "execute_result"
    }
   ],
   "source": [
    "import pandas as pd\n",
    "import tensorflow as tf\n",
    "from tensorflow.keras.preprocessing.text import Tokenizer\n",
    "from tensorflow.keras.preprocessing.sequence import pad_sequences\n",
    "\n",
    "# Load dataset\n",
    "df = pp.apply_pipeline(\"../datasets/sample/dataset.csv\", [(pp.binary_labels(), \"type\")], get_batch=True, batch_size=1000)\n",
    "\n",
    "# Tokenize and pad sequences\n",
    "tokenizer = Tokenizer(num_words=10000, oov_token=\"<OOV>\")\n",
    "tokenizer.fit_on_texts(df[\"content\"])\n",
    "sequences = tokenizer.texts_to_sequences(df[\"content\"])\n",
    "padded_sequences = pad_sequences(sequences, maxlen=1000, truncating=\"post\")\n",
    "\n",
    "# Split data into training and testing sets\n",
    "X_train, X_test, y_train, y_test = train_test_split(padded_sequences, df[\"type\"].astype(int), test_size=0.2, random_state=42)\n",
    "X_val, X_test, y_val, y_test = train_test_split(X_test, y_test, test_size=0.5, random_state=42)\n",
    "\n",
    "# Define the model architecture\n",
    "model = tf.keras.Sequential([\n",
    "    tf.keras.layers.Embedding(input_dim=10000, output_dim=16, input_length=1000),\n",
    "    tf.keras.layers.GlobalAveragePooling1D(),\n",
    "    tf.keras.layers.Dense(128, activation=\"relu\"),\n",
    "    tf.keras.layers.Dense(64, activation=\"sigmoid\"),\n",
    "    tf.keras.layers.Dense(1, activation=\"sigmoid\")\n",
    "])\n",
    "\n",
    "# Compile the model\n",
    "model.compile(optimizer=\"adam\", loss=\"binary_crossentropy\", metrics=[\"accuracy\"])\n",
    "\n",
    "# Train the model\n",
    "model.fit(X_train, y_train, epochs=30, validation_data=(X_val, y_val))\n",
    "\n",
    "# Evaluate the model\n",
    "model.evaluate(X_test, y_test)"
   ]
  }
 ],
 "metadata": {
  "kernelspec": {
   "display_name": "Python 3",
   "language": "python",
   "name": "python3"
  },
  "language_info": {
   "codemirror_mode": {
    "name": "ipython",
    "version": 3
   },
   "file_extension": ".py",
   "mimetype": "text/x-python",
   "name": "python",
   "nbconvert_exporter": "python",
   "pygments_lexer": "ipython3",
   "version": "3.10.9"
  },
  "orig_nbformat": 4,
  "vscode": {
   "interpreter": {
    "hash": "18e8ad9e04aa29451ad941865f411deac86078108f00415026b2da5e6b8d8358"
   }
  }
 },
 "nbformat": 4,
 "nbformat_minor": 2
}
